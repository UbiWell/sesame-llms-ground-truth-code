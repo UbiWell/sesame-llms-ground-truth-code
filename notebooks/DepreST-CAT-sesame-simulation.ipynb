{
 "cells": [
  {
   "cell_type": "code",
   "execution_count": 48,
   "id": "0xr-JmLCV6v0",
   "metadata": {
    "executionInfo": {
     "elapsed": 194,
     "status": "ok",
     "timestamp": 1711307860253,
     "user": {
      "displayName": "Varun Mishra",
      "userId": "16035457180629638947"
     },
     "user_tz": 240
    },
    "id": "0xr-JmLCV6v0",
    "tags": []
   },
   "outputs": [],
   "source": [
    "import pandas as pd\n",
    "import numpy as np\n",
    "from scipy.stats import pearsonr, spearmanr\n",
    "from openai import OpenAI as oai\n",
    "import ast\n",
    "from openai import AzureOpenAI\n",
    "import os\n",
    "from langchain.llms import OpenAI\n",
    "from langchain.prompts import PromptTemplate\n",
    "from langchain.chains import SequentialChain\n",
    "from langchain.chains import LLMChain\n",
    "from langchain_openai import ChatOpenAI\n",
    "from langchain.prompts import ChatPromptTemplate\n",
    "from langchain_openai import AzureChatOpenAI\n",
    "import matplotlib.pyplot as plt\n",
    "import pickle\n",
    "import re\n",
    "from collections import defaultdict"
   ]
  },
  {
   "cell_type": "code",
   "execution_count": 49,
   "id": "aefe8128-d588-4b37-b97f-d945f41285f9",
   "metadata": {
    "executionInfo": {
     "elapsed": 123,
     "status": "ok",
     "timestamp": 1711307860627,
     "user": {
      "displayName": "Varun Mishra",
      "userId": "16035457180629638947"
     },
     "user_tz": 240
    },
    "id": "aefe8128-d588-4b37-b97f-d945f41285f9",
    "tags": []
   },
   "outputs": [],
   "source": [
    "# Class to initialize Azure model\n",
    "class mOpenAI:\n",
    "    def __init__(self):\n",
    "        self.client = AzureOpenAI(\n",
    "            api_key=\"Add your API key\",\n",
    "            api_version=\"Add your API version\",\n",
    "            azure_endpoint=\"Add your API end-point\"\n",
    "        )\n",
    "        self.deployment_name = 'Add your deployment name'"
   ]
  },
  {
   "cell_type": "markdown",
   "id": "ucU2c0qNZFvD",
   "metadata": {
    "id": "ucU2c0qNZFvD"
   },
   "source": [
    "### Set configuration here\n"
   ]
  },
  {
   "cell_type": "code",
   "execution_count": 50,
   "id": "pur7-A3taQlI",
   "metadata": {
    "executionInfo": {
     "elapsed": 145,
     "status": "ok",
     "timestamp": 1711307923377,
     "user": {
      "displayName": "Varun Mishra",
      "userId": "16035457180629638947"
     },
     "user_tz": 240
    },
    "id": "pur7-A3taQlI",
    "tags": []
   },
   "outputs": [],
   "source": [
    "# Configuration\n",
    "api_to_use = \"Azure\" # Options: \"Azure\" and \"OpenAI\"\n",
    "prompting_method = \"direct\" # Options: \"direct\" and \"chain_of_thought\"\n",
    "scale_to_generate = \"gad\" # Options \"phq\" or \"gad\"\n",
    "use_demographics = False # Adds demographic information to the prompt\n",
    "re_run = False\n",
    "save_results = False\n",
    "scale_given = \"gad\"\n",
    "scale_generated = \"phq\"\n",
    "file_name_to_save_load = f\"gpt-4-{scale_generated}-given-{scale_given}\""
   ]
  },
  {
   "cell_type": "code",
   "execution_count": 51,
   "id": "svyBwoAfV5RR",
   "metadata": {
    "executionInfo": {
     "elapsed": 1,
     "status": "ok",
     "timestamp": 1711307861694,
     "user": {
      "displayName": "Varun Mishra",
      "userId": "16035457180629638947"
     },
     "user_tz": 240
    },
    "id": "svyBwoAfV5RR",
    "tags": []
   },
   "outputs": [],
   "source": [
    "drive_base = \"../\""
   ]
  },
  {
   "cell_type": "code",
   "execution_count": 52,
   "id": "d0deb02c-f50c-4f0c-b94d-c27ea5a5d997",
   "metadata": {
    "executionInfo": {
     "elapsed": 2,
     "status": "ok",
     "timestamp": 1711307862258,
     "user": {
      "displayName": "Varun Mishra",
      "userId": "16035457180629638947"
     },
     "user_tz": 240
    },
    "id": "d0deb02c-f50c-4f0c-b94d-c27ea5a5d997",
    "tags": []
   },
   "outputs": [],
   "source": [
    "# reading phq9 and gad7 data\n",
    "surveys = pd.read_csv(drive_base + \"DepreST-CAT-main/surveysDepreST-CAT.csv\")"
   ]
  },
  {
   "cell_type": "code",
   "execution_count": 53,
   "id": "a7dfebfe-a14f-4c50-abaf-55b1a0a9708f",
   "metadata": {
    "colab": {
     "base_uri": "https://localhost:8080/",
     "height": 464
    },
    "executionInfo": {
     "elapsed": 2,
     "status": "ok",
     "timestamp": 1711307862699,
     "user": {
      "displayName": "Varun Mishra",
      "userId": "16035457180629638947"
     },
     "user_tz": 240
    },
    "id": "a7dfebfe-a14f-4c50-abaf-55b1a0a9708f",
    "outputId": "c92cee7d-7761-4704-9018-84791f8179ff",
    "tags": []
   },
   "outputs": [
    {
     "data": {
      "text/html": [
       "<div>\n",
       "<style scoped>\n",
       "    .dataframe tbody tr th:only-of-type {\n",
       "        vertical-align: middle;\n",
       "    }\n",
       "\n",
       "    .dataframe tbody tr th {\n",
       "        vertical-align: top;\n",
       "    }\n",
       "\n",
       "    .dataframe thead th {\n",
       "        text-align: right;\n",
       "    }\n",
       "</style>\n",
       "<table border=\"1\" class=\"dataframe\">\n",
       "  <thead>\n",
       "    <tr style=\"text-align: right;\">\n",
       "      <th></th>\n",
       "      <th>id</th>\n",
       "      <th>appVersion</th>\n",
       "      <th>PHQ - Q1</th>\n",
       "      <th>PHQ - Q2</th>\n",
       "      <th>PHQ - Q3</th>\n",
       "      <th>PHQ - Q4</th>\n",
       "      <th>PHQ - Q5</th>\n",
       "      <th>PHQ - Q6</th>\n",
       "      <th>PHQ - Q7</th>\n",
       "      <th>PHQ - Q8</th>\n",
       "      <th>...</th>\n",
       "      <th>GAD - Q7</th>\n",
       "      <th>GAD - Total</th>\n",
       "      <th>Gender</th>\n",
       "      <th>Age</th>\n",
       "      <th>StudentStatus</th>\n",
       "      <th>PriorDepressionTreatment</th>\n",
       "      <th>Remote</th>\n",
       "      <th>COVID</th>\n",
       "      <th>Group</th>\n",
       "      <th>Timestamp</th>\n",
       "    </tr>\n",
       "  </thead>\n",
       "  <tbody>\n",
       "    <tr>\n",
       "      <th>0</th>\n",
       "      <td>1MZ0A5PA6</td>\n",
       "      <td>stereotype threat</td>\n",
       "      <td>2</td>\n",
       "      <td>1</td>\n",
       "      <td>2</td>\n",
       "      <td>3</td>\n",
       "      <td>2</td>\n",
       "      <td>1</td>\n",
       "      <td>3</td>\n",
       "      <td>0</td>\n",
       "      <td>...</td>\n",
       "      <td>1</td>\n",
       "      <td>12</td>\n",
       "      <td>Woman</td>\n",
       "      <td>24-39</td>\n",
       "      <td>No &amp; I am not a student</td>\n",
       "      <td>Yes</td>\n",
       "      <td>Yes - Full Time</td>\n",
       "      <td>No\\/I don't know</td>\n",
       "      <td>White\\/Caucasian</td>\n",
       "      <td>\"2021-03-21 00:29:43.016253\"</td>\n",
       "    </tr>\n",
       "    <tr>\n",
       "      <th>1</th>\n",
       "      <td>E7EEQIEOV</td>\n",
       "      <td>control</td>\n",
       "      <td>1</td>\n",
       "      <td>0</td>\n",
       "      <td>1</td>\n",
       "      <td>1</td>\n",
       "      <td>0</td>\n",
       "      <td>1</td>\n",
       "      <td>1</td>\n",
       "      <td>0</td>\n",
       "      <td>...</td>\n",
       "      <td>1</td>\n",
       "      <td>5</td>\n",
       "      <td>Woman</td>\n",
       "      <td>40-55</td>\n",
       "      <td>No &amp; I am not a student</td>\n",
       "      <td>Prefer not to answer</td>\n",
       "      <td>No - Not At All</td>\n",
       "      <td>Yes</td>\n",
       "      <td>White\\/Caucasian</td>\n",
       "      <td>\"2021-03-20 00:16:25.943488\"</td>\n",
       "    </tr>\n",
       "    <tr>\n",
       "      <th>2</th>\n",
       "      <td>IHNGBZ4G4</td>\n",
       "      <td>control</td>\n",
       "      <td>1</td>\n",
       "      <td>1</td>\n",
       "      <td>2</td>\n",
       "      <td>3</td>\n",
       "      <td>3</td>\n",
       "      <td>2</td>\n",
       "      <td>2</td>\n",
       "      <td>1</td>\n",
       "      <td>...</td>\n",
       "      <td>1</td>\n",
       "      <td>7</td>\n",
       "      <td>Woman</td>\n",
       "      <td>40-55</td>\n",
       "      <td>No &amp; I am not a student</td>\n",
       "      <td>Yes</td>\n",
       "      <td>No - Not At All</td>\n",
       "      <td>No\\/I don't know</td>\n",
       "      <td>White\\/Caucasian</td>\n",
       "      <td>\"2021-03-21 22:33:41.260353\"</td>\n",
       "    </tr>\n",
       "    <tr>\n",
       "      <th>3</th>\n",
       "      <td>R8CI0EGMO</td>\n",
       "      <td>stereotype threat</td>\n",
       "      <td>1</td>\n",
       "      <td>2</td>\n",
       "      <td>3</td>\n",
       "      <td>2</td>\n",
       "      <td>2</td>\n",
       "      <td>3</td>\n",
       "      <td>3</td>\n",
       "      <td>0</td>\n",
       "      <td>...</td>\n",
       "      <td>0</td>\n",
       "      <td>11</td>\n",
       "      <td>Woman</td>\n",
       "      <td>40-55</td>\n",
       "      <td>No &amp; I am not a student</td>\n",
       "      <td>Yes</td>\n",
       "      <td>Yes - Full Time</td>\n",
       "      <td>No\\/I don't know</td>\n",
       "      <td>White\\/Caucasian</td>\n",
       "      <td>\"2021-03-20 05:03:37.222712\"</td>\n",
       "    </tr>\n",
       "    <tr>\n",
       "      <th>4</th>\n",
       "      <td>FWJ1GB40T</td>\n",
       "      <td>control</td>\n",
       "      <td>2</td>\n",
       "      <td>2</td>\n",
       "      <td>2</td>\n",
       "      <td>3</td>\n",
       "      <td>1</td>\n",
       "      <td>2</td>\n",
       "      <td>3</td>\n",
       "      <td>1</td>\n",
       "      <td>...</td>\n",
       "      <td>1</td>\n",
       "      <td>19</td>\n",
       "      <td>Other</td>\n",
       "      <td>18-23</td>\n",
       "      <td>Yes &amp; I am a undergrad student</td>\n",
       "      <td>Yes</td>\n",
       "      <td>No - Not At All</td>\n",
       "      <td>No\\/I don't know</td>\n",
       "      <td>White\\/Caucasian</td>\n",
       "      <td>\"2021-03-20 11:47:32.838462\"</td>\n",
       "    </tr>\n",
       "  </tbody>\n",
       "</table>\n",
       "<p>5 rows × 28 columns</p>\n",
       "</div>"
      ],
      "text/plain": [
       "          id         appVersion  PHQ - Q1  PHQ - Q2  PHQ - Q3  PHQ - Q4  \\\n",
       "0  1MZ0A5PA6  stereotype threat         2         1         2         3   \n",
       "1  E7EEQIEOV            control         1         0         1         1   \n",
       "2  IHNGBZ4G4            control         1         1         2         3   \n",
       "3  R8CI0EGMO  stereotype threat         1         2         3         2   \n",
       "4  FWJ1GB40T            control         2         2         2         3   \n",
       "\n",
       "   PHQ - Q5  PHQ - Q6  PHQ - Q7  PHQ - Q8  ...  GAD - Q7  GAD - Total  Gender  \\\n",
       "0         2         1         3         0  ...         1           12   Woman   \n",
       "1         0         1         1         0  ...         1            5   Woman   \n",
       "2         3         2         2         1  ...         1            7   Woman   \n",
       "3         2         3         3         0  ...         0           11   Woman   \n",
       "4         1         2         3         1  ...         1           19   Other   \n",
       "\n",
       "     Age                   StudentStatus  PriorDepressionTreatment  \\\n",
       "0  24-39         No & I am not a student                       Yes   \n",
       "1  40-55         No & I am not a student      Prefer not to answer   \n",
       "2  40-55         No & I am not a student                       Yes   \n",
       "3  40-55         No & I am not a student                       Yes   \n",
       "4  18-23  Yes & I am a undergrad student                       Yes   \n",
       "\n",
       "            Remote             COVID             Group  \\\n",
       "0  Yes - Full Time  No\\/I don't know  White\\/Caucasian   \n",
       "1  No - Not At All               Yes  White\\/Caucasian   \n",
       "2  No - Not At All  No\\/I don't know  White\\/Caucasian   \n",
       "3  Yes - Full Time  No\\/I don't know  White\\/Caucasian   \n",
       "4  No - Not At All  No\\/I don't know  White\\/Caucasian   \n",
       "\n",
       "                      Timestamp  \n",
       "0  \"2021-03-21 00:29:43.016253\"  \n",
       "1  \"2021-03-20 00:16:25.943488\"  \n",
       "2  \"2021-03-21 22:33:41.260353\"  \n",
       "3  \"2021-03-20 05:03:37.222712\"  \n",
       "4  \"2021-03-20 11:47:32.838462\"  \n",
       "\n",
       "[5 rows x 28 columns]"
      ]
     },
     "execution_count": 53,
     "metadata": {},
     "output_type": "execute_result"
    }
   ],
   "source": [
    "surveys.head()"
   ]
  },
  {
   "cell_type": "code",
   "execution_count": 54,
   "id": "f1ffc2b0-9bf2-4468-9a34-066e4421eb1d",
   "metadata": {
    "executionInfo": {
     "elapsed": 1,
     "status": "ok",
     "timestamp": 1711307863329,
     "user": {
      "displayName": "Varun Mishra",
      "userId": "16035457180629638947"
     },
     "user_tz": 240
    },
    "id": "f1ffc2b0-9bf2-4468-9a34-066e4421eb1d",
    "tags": []
   },
   "outputs": [],
   "source": [
    "phq_columns = [c for c in surveys.columns if c.startswith(\"PHQ\")][:-1]\n",
    "gad_columns = [c for c in surveys.columns if c.startswith(\"GAD\")][:-1]"
   ]
  },
  {
   "cell_type": "code",
   "execution_count": 55,
   "id": "afd7654d-9cb6-4ca2-bccf-53169959bb7a",
   "metadata": {
    "executionInfo": {
     "elapsed": 142,
     "status": "ok",
     "timestamp": 1711307863989,
     "user": {
      "displayName": "Varun Mishra",
      "userId": "16035457180629638947"
     },
     "user_tz": 240
    },
    "id": "afd7654d-9cb6-4ca2-bccf-53169959bb7a",
    "tags": []
   },
   "outputs": [],
   "source": [
    "# Saving responses and demographics in a dictionary\n",
    "responses_dict = defaultdict(lambda: {})\n",
    "demographics={}\n",
    "for i, row in surveys.iterrows():\n",
    "    participant_id = row[\"id\"]\n",
    "    phq_responses = [int(row[c]) for c in phq_columns]\n",
    "    gad_responses = [int(row[c]) for c in gad_columns]\n",
    "    responses_dict[participant_id]['phq'] = phq_responses\n",
    "    responses_dict[participant_id]['gad'] = gad_responses\n",
    "    demographics[participant_id] = {\"age\": row[\"Age\"], \"gender\": row[\"Gender\"], \"group\": row[\"Group\"], \"prior-treatment\": row[\"PriorDepressionTreatment\"]}\n"
   ]
  },
  {
   "cell_type": "code",
   "execution_count": 56,
   "id": "a90a6154-319a-44ff-bcc1-67bd8c1caad4",
   "metadata": {
    "colab": {
     "base_uri": "https://localhost:8080/",
     "height": 458
    },
    "executionInfo": {
     "elapsed": 807,
     "status": "ok",
     "timestamp": 1711307865344,
     "user": {
      "displayName": "Varun Mishra",
      "userId": "16035457180629638947"
     },
     "user_tz": 240
    },
    "id": "a90a6154-319a-44ff-bcc1-67bd8c1caad4",
    "outputId": "e78e5ab0-c116-4089-bdd6-abb3766b5e60",
    "tags": []
   },
   "outputs": [
    {
     "data": {
      "image/png": "[encoded data removed]",
      "text/plain": [
       "<Figure size 1080x360 with 3 Axes>"
      ]
     },
     "metadata": {
      "needs_background": "light"
     },
     "output_type": "display_data"
    }
   ],
   "source": [
    "# Demographics information of participants\n",
    "ages = [demographics[key]['age'] for key in demographics]\n",
    "genders = [demographics[key]['gender'] for key in demographics]\n",
    "groups = [demographics[key]['group'] for key in demographics]\n",
    "prior_treatment = [demographics[key]['prior-treatment'] for key in demographics]\n",
    "\n",
    "# Plot histograms for age, gender, and group\n",
    "plt.figure(figsize=(15, 5))\n",
    "\n",
    "plt.subplot(1, 3, 1)\n",
    "plt.hist(ages, bins=len(set(ages)), color='skyblue', edgecolor='black')\n",
    "plt.title('Age Distribution')\n",
    "plt.xlabel('Age')\n",
    "plt.ylabel('Count')\n",
    "\n",
    "plt.subplot(1, 3, 2)\n",
    "plt.hist(genders, bins=4, color='lightgreen', edgecolor='black')\n",
    "plt.title('Gender Distribution')\n",
    "plt.xlabel('Gender')\n",
    "plt.ylabel('Count')\n",
    "\n",
    "plt.subplot(1, 3, 3)\n",
    "plt.hist(prior_treatment, bins=len(set(prior_treatment)), color='purple', edgecolor='black')\n",
    "plt.title('Prior Treatment Distribution')\n",
    "plt.xlabel('answer')\n",
    "plt.ylabel('Count')\n",
    "\n",
    "plt.tight_layout()\n",
    "plt.show()"
   ]
  },
  {
   "cell_type": "code",
   "execution_count": 57,
   "id": "9d11efd9-f109-472c-9a87-524f22a0563e",
   "metadata": {
    "executionInfo": {
     "elapsed": 1,
     "status": "ok",
     "timestamp": 1711307866102,
     "user": {
      "displayName": "Varun Mishra",
      "userId": "16035457180629638947"
     },
     "user_tz": 240
    },
    "id": "9d11efd9-f109-472c-9a87-524f22a0563e",
    "tags": []
   },
   "outputs": [],
   "source": [
    "phq_scores = [sum(responses_dict[p]['phq']) for p in responses_dict]\n",
    "gad_scores = [sum(responses_dict[p]['gad']) for p in responses_dict]\n",
    "scores_dict = {'gad': gad_scores, 'phq': phq_scores}"
   ]
  },
  {
   "cell_type": "code",
   "execution_count": 58,
   "id": "25a88b3f-5117-4546-bee3-c6cc9cc57af1",
   "metadata": {
    "executionInfo": {
     "elapsed": 117,
     "status": "ok",
     "timestamp": 1711307867134,
     "user": {
      "displayName": "Varun Mishra",
      "userId": "16035457180629638947"
     },
     "user_tz": 240
    },
    "id": "25a88b3f-5117-4546-bee3-c6cc9cc57af1",
    "tags": []
   },
   "outputs": [],
   "source": [
    "gad_scale = {\n",
    "    \"Not at all\": 0,\n",
    "    \"Several days\": 1,\n",
    "    \"More than half the days\": 2,\n",
    "    \"Nearly every day\": 3\n",
    "}\n",
    "\n",
    "phq_scale = {\n",
    "    \"Not at all\": 0,\n",
    "    \"Several days\": 1,\n",
    "    \"More than half the days\": 2,\n",
    "    \"Nearly every day\": 3\n",
    "}"
   ]
  },
  {
   "cell_type": "code",
   "execution_count": 59,
   "id": "1ec47c7a-f54e-42e0-984b-7d303d0245d1",
   "metadata": {
    "executionInfo": {
     "elapsed": 168,
     "status": "ok",
     "timestamp": 1711307867819,
     "user": {
      "displayName": "Varun Mishra",
      "userId": "16035457180629638947"
     },
     "user_tz": 240
    },
    "id": "1ec47c7a-f54e-42e0-984b-7d303d0245d1",
    "tags": []
   },
   "outputs": [],
   "source": [
    "scale_max = {'phq':27, 'gad':21}"
   ]
  },
  {
   "cell_type": "code",
   "execution_count": 60,
   "id": "f4886266-cc72-4f65-a715-6a8ddf9eb18d",
   "metadata": {
    "executionInfo": {
     "elapsed": 1,
     "status": "ok",
     "timestamp": 1711307868453,
     "user": {
      "displayName": "Varun Mishra",
      "userId": "16035457180629638947"
     },
     "user_tz": 240
    },
    "id": "f4886266-cc72-4f65-a715-6a8ddf9eb18d",
    "tags": []
   },
   "outputs": [],
   "source": [
    "phq_dict = {\n",
    "    \"questions\": [\n",
    "        \"Little interest or pleasure in doing things\",\n",
    "        \"Feeling down, depressed, or hopeless\",\n",
    "        \"Trouble falling or staying asleep, or sleeping too much\",\n",
    "        \"Feeling tired or having little energy\",\n",
    "        \"Poor appetite or overeating\",\n",
    "        \"Feeling bad about yourself or that you are a failure or have let yourself or your family down\",\n",
    "        \"Trouble concentrating on things, such as reading the newspaper or watching television\",\n",
    "        \"Moving or speaking so slowly that other people could have noticed. Or the opposite being so fidgety or restless that you have been moving around a lot more than usual\",\n",
    "        \"Thoughts that you would be better off dead, or of hurting yourself\"\n",
    "    ],\n",
    "    \"asking_prompt\": \"score the given PHQ scale questions as the person 'X' would have from 0 to 3 (inclusive). 0 denotes 'Not at all', 1 denotes 'Several days', 2 denotes 'more than half days', 3 denotes 'nearly everyday'. Here are the statements, score them one by one:\",\n",
    "    \"asking_prompt_demo\": \"score the given PHQ scale questions as the person 'X' would have from 0 to 3 (inclusive). 0 denotes 'Not at all', 1 denotes 'Several days', 2 denotes 'more than half days', 3 denotes 'nearly everyday'. Make sure to use demographic information too. Here are the statements, score them one by one:\",\n",
    "\n",
    "    \"asking_prompt_chain\": \"score the given PHQ scale questions as the person 'X' would have from 0 to 3 (inclusive). 0 denotes 'Not at all', 1 denotes 'Several days', 2 denotes 'more than half days', 3 denotes 'nearly everyday'. Here are the statements, think step by step and score one by one\",\n",
    "    \"providing_prompt\": \"Suppose person 'X' answered these PHQ scale questions from 0 to 3 where 0 denotes 'Not at all', 1 denotes 'Several days', 2 denotes 'more than half days', 3 denotes 'nearly everyday'. Here are the statements:\"\n",
    "}"
   ]
  },
  {
   "cell_type": "code",
   "execution_count": 61,
   "id": "8e0434f0-3b37-49e4-bc5d-f2af4a4c9d88",
   "metadata": {
    "executionInfo": {
     "elapsed": 127,
     "status": "ok",
     "timestamp": 1711307875122,
     "user": {
      "displayName": "Varun Mishra",
      "userId": "16035457180629638947"
     },
     "user_tz": 240
    },
    "id": "8e0434f0-3b37-49e4-bc5d-f2af4a4c9d88",
    "tags": []
   },
   "outputs": [],
   "source": [
    "gad_dict = {\n",
    "    \"questions\": [\n",
    "    \"Feeling nervous, anxious, or on edge\",\n",
    "    \"Not being able to stop or control worrying\",\n",
    "    \"Worrying too much about different things\",\n",
    "    \"Trouble relaxing\",\n",
    "    \"Being so restless that it is hard to sit still\",\n",
    "    \"Becoming easily annoyed or irritable\",\n",
    "    \"Feeling afraid, as if something awful might happen\"\n",
    "],\n",
    "    \"asking_prompt\": \"score the given GAD scale questions as the person 'X' would have from 0 to 3 (inclusive). 0 denotes 'Not at all', 1 denotes 'Several days', 2 denotes 'more than half days', 3 denotes 'nearly everyday'. Here are the statements, score them one by one\",\n",
    "    \"asking_prompt_demo\": \"score the given GAD scale questions as the person 'X' would have from 0 to 3 (inclusive). 0 denotes 'Not at all', 1 denotes 'Several days', 2 denotes 'more than half days', 3 denotes 'nearly everyday'. Make sure to use demographic information too. Here are the statements, score them one by one\",\n",
    "\n",
    "    \"asking_prompt_chain\": \"score the given GAD scale questions as the person 'X' would have from 0 to 3 (inclusive). 0 denotes 'Not at all', 1 denotes 'Several days', 2 denotes 'more than half days', 3 denotes 'nearly everyday'. Here are the statements, think step by step and score one by one\",\n",
    "    \"providing_prompt\": \"Suppose person 'X' answered these GAD scale questions from 0 to 3 where 0 denotes 'Not at all', 1 denotes 'Several days', 2 denotes 'more than half days', 3 denotes 'nearly everyday'. Here are the statements:\"\n",
    "}"
   ]
  },
  {
   "cell_type": "code",
   "execution_count": 62,
   "id": "ssMf07R7cqI0",
   "metadata": {
    "executionInfo": {
     "elapsed": 139,
     "status": "ok",
     "timestamp": 1711307876043,
     "user": {
      "displayName": "Varun Mishra",
      "userId": "16035457180629638947"
     },
     "user_tz": 240
    },
    "id": "ssMf07R7cqI0",
    "tags": []
   },
   "outputs": [],
   "source": [
    "prompt_dict = {}\n",
    "prompt_dict[\"gad\"] = gad_dict\n",
    "prompt_dict[\"phq\"] = phq_dict"
   ]
  },
  {
   "cell_type": "code",
   "execution_count": 63,
   "id": "FddT99oDBzW0",
   "metadata": {
    "executionInfo": {
     "elapsed": 118,
     "status": "ok",
     "timestamp": 1711307876823,
     "user": {
      "displayName": "Varun Mishra",
      "userId": "16035457180629638947"
     },
     "user_tz": 240
    },
    "id": "FddT99oDBzW0",
    "tags": []
   },
   "outputs": [],
   "source": [
    "# extracts list out of GPT response\n",
    "def extract_list(text):\n",
    "    try:\n",
    "        pattern = r'\\[(.*?)\\]'\n",
    "        match = re.search(pattern, text)\n",
    "        if match:\n",
    "            return [int(x) for x in match.group(1).split(',')]\n",
    "        else:\n",
    "            return None\n",
    "    except AttributeError:\n",
    "        return None"
   ]
  },
  {
   "cell_type": "code",
   "execution_count": 64,
   "id": "cd4cb1a9-db6b-4127-bd7d-f0258a37a505",
   "metadata": {
    "executionInfo": {
     "elapsed": 1,
     "status": "ok",
     "timestamp": 1711307877463,
     "user": {
      "displayName": "Varun Mishra",
      "userId": "16035457180629638947"
     },
     "user_tz": 240
    },
    "id": "cd4cb1a9-db6b-4127-bd7d-f0258a37a505",
    "tags": []
   },
   "outputs": [],
   "source": [
    "# Generates prompt with demographic information\n",
    "def prompt_generator_with_demographics(demographics, single_chain = True):\n",
    "    prompt = ''\n",
    "    prompt_chain = ''\n",
    "\n",
    "    pysc_demo = \"Based on these responses understand the psychological state of person 'X'\"\n",
    "    age = demographics[\"age\"]\n",
    "    gender = demographics[\"gender\"]\n",
    "    treatment = demographics[\"prior-treatment\"]\n",
    "    demo_text = f\"Person X belongs to following demographics: \\nAge: {age}, \\nGender: {gender}, \\nPrior Depression Treatment: {treatment} \\n\\n\"\n",
    "\n",
    "    given = prompt_dict[scale_given]\n",
    "    generate = prompt_dict[scale_to_generate]\n",
    "    scores = scores_dict[scale_given]\n",
    "\n",
    "    prompt += demo_text\n",
    "    prompt += given[\"providing_prompt\"] + \"\\n\\n\"\n",
    "\n",
    "    questions = \"\"\n",
    "    for q, s in zip(given[\"questions\"], scores):\n",
    "        questions += q + \"\\n\"\n",
    "        questions += str(s) + \"\\n\"\n",
    "\n",
    "    questions += \"\\n\"\n",
    "    prompt += questions\n",
    "\n",
    "\n",
    "    if(single_chain):\n",
    "        len_of_scores = len(generate['questions'])\n",
    "        prompt = prompt + pysd_demo\n",
    "        prompt += \" and \"\n",
    "        prompt += generate[\"asking_prompt_demo\"]\n",
    "\n",
    "        prompt += \"\\n\\n\"\n",
    "\n",
    "        for q in generate[\"questions\"]:\n",
    "            prompt += q + \"\\n\"\n",
    "        prompt = prompt + f\"Just return a list of {len_of_scores} scores you provided in format [scores] and nothing else\"\n",
    "    else:\n",
    "        prompt = prompt + pysc_demo\n",
    "        prompt += \" and \"\n",
    "        prompt += generate[\"asking_prompt_chain\"]\n",
    "        prompt += \"\\n\\n\"\n",
    "\n",
    "        for q in generate[\"questions\"]:\n",
    "            prompt += q + \"\\n\"\n",
    "        len_of_scores = len(generate['questions'])\n",
    "        prompt_chain = prompt_chain + f\"Now return the {len_of_scores} scores in a list [scores]\"\n",
    "    return prompt, prompt_chain"
   ]
  },
  {
   "cell_type": "code",
   "execution_count": 65,
   "id": "b5fb6c7e-ad16-4c70-bba0-7dabfe370c43",
   "metadata": {
    "executionInfo": {
     "elapsed": 324,
     "status": "ok",
     "timestamp": 1711307878677,
     "user": {
      "displayName": "Varun Mishra",
      "userId": "16035457180629638947"
     },
     "user_tz": 240
    },
    "id": "b5fb6c7e-ad16-4c70-bba0-7dabfe370c43",
    "tags": []
   },
   "outputs": [],
   "source": [
    "def prompt_generator(single_chain = True):\n",
    "    prompt = ''\n",
    "    prompt_chain = ''\n",
    "    pysc = \"Based on these responses understand the psychological state of person 'X'\"\n",
    "\n",
    "    given = prompt_dict[scale_given]\n",
    "    generate = prompt_dict[scale_to_generate]\n",
    "    scores = scores_dict[scale_given]\n",
    "    prompt = given[\"providing_prompt\"] + \"\\n\\n\"\n",
    "\n",
    "    questions = \"\"\n",
    "    for q, s in zip(given[\"questions\"], scores):\n",
    "        questions += q + \"\\n\"\n",
    "        questions += str(s) + \"\\n\"\n",
    "\n",
    "    questions += \"\\n\"\n",
    "    prompt += questions\n",
    "\n",
    "\n",
    "    if(single_chain):\n",
    "        len_of_scores = len(generate['questions'])\n",
    "        prompt = prompt + pysc\n",
    "        prompt += \" and \"\n",
    "        prompt += generate[\"asking_prompt\"]\n",
    "\n",
    "        prompt += \"\\n\\n\"\n",
    "\n",
    "        for q in generate[\"questions\"]:\n",
    "            prompt += q + \"\\n\"\n",
    "        prompt = prompt + f\"Just return a list of {len_of_scores} scores you provided in format [scores] and nothing else\"\n",
    "    else:\n",
    "        prompt = prompt + pysc\n",
    "        prompt += \" and \"\n",
    "        prompt += generate[\"asking_prompt_chain\"]\n",
    "        prompt += \"\\n\\n\"\n",
    "\n",
    "        for q in generate[\"questions\"]:\n",
    "            prompt += q + \"\\n\"\n",
    "\n",
    "        len_of_scores = len(generate['questions'])\n",
    "\n",
    "\n",
    "        prompt_chain = prompt_chain + f\"Now return the {len_of_scores} scores in a list [scores]\"\n",
    "    return prompt, prompt_chain"
   ]
  },
  {
   "cell_type": "code",
   "execution_count": 66,
   "id": "20e72646-cefd-4b7b-96ff-98567d12a2eb",
   "metadata": {
    "executionInfo": {
     "elapsed": 1,
     "status": "ok",
     "timestamp": 1711307879204,
     "user": {
      "displayName": "Varun Mishra",
      "userId": "16035457180629638947"
     },
     "user_tz": 240
    },
    "id": "20e72646-cefd-4b7b-96ff-98567d12a2eb",
    "tags": []
   },
   "outputs": [],
   "source": [
    "chat_gpt_scores_dict = {}"
   ]
  },
  {
   "cell_type": "code",
   "execution_count": 67,
   "id": "f5129d18-a1c3-430e-991c-298b5bf11a7a",
   "metadata": {
    "executionInfo": {
     "elapsed": 140,
     "status": "ok",
     "timestamp": 1711307879806,
     "user": {
      "displayName": "Varun Mishra",
      "userId": "16035457180629638947"
     },
     "user_tz": 240
    },
    "id": "f5129d18-a1c3-430e-991c-298b5bf11a7a",
    "tags": []
   },
   "outputs": [],
   "source": [
    "sample_prompt = True\n",
    "def run_GPT_models():\n",
    "    print(f\"generating for scale {scale_to_generate}\")\n",
    "    if(prompting_method == \"direct\"):\n",
    "        if (api_to_use == \"Azure\"):\n",
    "            print(\"using Azure API\")\n",
    "            client = mOpenAI().client\n",
    "            deployment_name = mOpenAI().deployment_name\n",
    "        else:\n",
    "            print(\"Directly using OpenAI API\")\n",
    "            client = oai()\n",
    "            deployment_name = \"gpt-4-turbo-preview\"\n",
    "    else:\n",
    "        if (api_to_use == \"Azure\"):\n",
    "            print(\"using Azure API\")\n",
    "            llm = AzureChatOpenAI(deployment_name=\"NUHAI-GPT4\", model_name=\"gpt-4-turbo-preview\", api_version=\"2023-12-01-preview\")\n",
    "        else:\n",
    "            print(\"Directly using OpenAI API\")\n",
    "            llm = ChatOpenAI(model_name=\"gpt-4-turbo-preview\")\n",
    "\n",
    "    for key in responses_dict:\n",
    "        if (key not in chat_gpt_scores_dict.keys() or chat_gpt_scores_dict[key] == []):\n",
    "            scores = []\n",
    "            phq_responses = responses_dict[key][0]\n",
    "            gad_responses = responses_dict[key][1]\n",
    "\n",
    "            if(use_demographics):\n",
    "                print(\"Using Demographics Information\\n\")\n",
    "                prompt1, prompt2 = prompt_generator_with_demographics(demographics[key], prompting_method == \"direct\")\n",
    "            else:\n",
    "                prompt1, prompt2 = prompt_generator(prompting_method == \"direct\")\n",
    "\n",
    "            if sample_prompt:\n",
    "              print(prompt1)\n",
    "              print(\"***********\")\n",
    "              print(prompt2)\n",
    "              sample_prompt = False\n",
    "\n",
    "            if(prompting_method == \"direct\"):\n",
    "                response = client.chat.completions.create(\n",
    "                    model=deployment_name, messages=[{\"role\": \"user\", \"content\": prompt1},])\n",
    "\n",
    "                scores = response.choices[0].message.content\n",
    "\n",
    "            else:\n",
    "                prompt1 = PromptTemplate(template=prompt1, input_variables=[])\n",
    "                prompt2 = PromptTemplate(template=\"agent's scores: \\n\\n {psyc} \\n\\n\" + prompt2, input_variables =[])\n",
    "\n",
    "                chain1 = LLMChain(llm=llm, prompt= prompt1, output_key=\"psyc\")\n",
    "                chain2 = LLMChain(llm=llm, prompt= prompt2, output_key=\"scores\")\n",
    "\n",
    "\n",
    "                overall_chain = SequentialChain(\n",
    "                    chains=[chain1, chain2],\n",
    "                    input_variables = [],\n",
    "                    output_variables=[\"psyc\", \"scores\"],\n",
    "                    verbose=True)\n",
    "\n",
    "                response = overall_chain({})\n",
    "                scores = response[\"scores\"]\n",
    "\n",
    "\n",
    "            scores = extract_list(scores)\n",
    "\n",
    "            expected_size = -1\n",
    "            if scale_to_generate == \"gad\":\n",
    "                expected_size = 7\n",
    "            else:\n",
    "                expected_size = 9\n",
    "\n",
    "            if(scores == None or len(scores) != expected_size):\n",
    "                scores = []\n",
    "\n",
    "            chat_gpt_scores_dict[key] = scores\n",
    "\n",
    "            print(\"running for\", key)\n",
    "            print(\"gad: \")\n",
    "            print(gad_responses)\n",
    "            print(\"phq:\")\n",
    "            print(phq_responses)\n",
    "            print(f\"Predicted {scale_to_generate}: \")\n",
    "            print(scores)\n",
    "            if(scale_to_generate == \"gad\"):\n",
    "              print(\"differences\", sum(scores) - sum(gad_responses))\n",
    "            if(scale_to_generate == \"phq\"):\n",
    "              print(\"differences\", sum(scores) - sum(phq_responses))\n",
    "\n"
   ]
  },
  {
   "cell_type": "code",
   "execution_count": 68,
   "id": "39180aa4-5b7b-43f2-9618-e8a310830eca",
   "metadata": {
    "executionInfo": {
     "elapsed": 141,
     "status": "ok",
     "timestamp": 1711308594835,
     "user": {
      "displayName": "Varun Mishra",
      "userId": "16035457180629638947"
     },
     "user_tz": 240
    },
    "id": "39180aa4-5b7b-43f2-9618-e8a310830eca",
    "tags": []
   },
   "outputs": [],
   "source": [
    "if(re_run):\n",
    "    run_GPT_models(scale_to_generate)\n",
    "    if save_results:\n",
    "        with open(drive_base + f\"outputs/{file_name_to_save_load}\", 'wb') as f:\n",
    "            pickle.dump(chat_gpt_scores_dict, f)\n",
    "        with open(drive_base + f\"outputs/responses_gad_phq\", 'wb') as f:\n",
    "            pickle.dump(dict(responses_dict), f)\n",
    "else:\n",
    "    with open(drive_base + f\"outputs/{file_name_to_save_load}\", 'rb') as f:\n",
    "        chat_gpt_scores_dict = pickle.load(f)\n",
    "\n"
   ]
  },
  {
   "cell_type": "code",
   "execution_count": 69,
   "id": "acc7997b-04a6-4d77-a810-21cce919a6ec",
   "metadata": {
    "executionInfo": {
     "elapsed": 125,
     "status": "ok",
     "timestamp": 1711308088159,
     "user": {
      "displayName": "Varun Mishra",
      "userId": "16035457180629638947"
     },
     "user_tz": 240
    },
    "id": "acc7997b-04a6-4d77-a810-21cce919a6ec",
    "tags": []
   },
   "outputs": [],
   "source": [
    "def get_scores(responses_dict, chat_gpt_scores_dict):\n",
    "    scale_given_scores = []\n",
    "    scale_generated_scores = []\n",
    "    chatgpt_scores = []\n",
    "    for key in responses_dict:\n",
    "        scale_given_responses = responses_dict[key][scale_given]\n",
    "        scale_generated_responses = responses_dict[key][scale_generated]\n",
    "        chatgpt_responses = chat_gpt_scores_dict[key]\n",
    "        assert(len(scale_generated_responses) == len(chatgpt_responses))\n",
    "\n",
    "        scale_given_score = sum(scale_given_responses)\n",
    "        scale_generated_score = sum(scale_generated_responses)\n",
    "        chatgpt_score = sum(chatgpt_responses)\n",
    "        scale_given_scores.append(scale_given_score)\n",
    "        scale_generated_scores.append(scale_generated_score)\n",
    "        chatgpt_scores.append(chatgpt_score)\n",
    "    return scale_given_scores, scale_generated_scores, chatgpt_scores"
   ]
  },
  {
   "cell_type": "code",
   "execution_count": 70,
   "id": "631e8e18-decf-47fb-986c-ce26186fafa0",
   "metadata": {
    "executionInfo": {
     "elapsed": 156,
     "status": "ok",
     "timestamp": 1711308125022,
     "user": {
      "displayName": "Varun Mishra",
      "userId": "16035457180629638947"
     },
     "user_tz": 240
    },
    "id": "631e8e18-decf-47fb-986c-ce26186fafa0",
    "tags": []
   },
   "outputs": [],
   "source": [
    "def calc_metrics(responses_dict, chat_gpt_scores_dict, metric=\"spearman\"):\n",
    "    if metric == \"spearman\":\n",
    "        function = spearmanr\n",
    "    else:\n",
    "        function = \"pearson\"\n",
    "\n",
    "    scale_given_scores = []\n",
    "    scale_generated_scores = []\n",
    "    chatgpt_scores = []\n",
    "    itemized_error = []\n",
    "    keys = []\n",
    "    for key in responses_dict:\n",
    "        scale_given_responses = responses_dict[key][scale_given]\n",
    "        scale_generated_responses = responses_dict[key][scale_generated]\n",
    "        chatgpt_responses = chat_gpt_scores_dict[key]\n",
    "\n",
    "        assert len(scale_generated_responses) == len(chatgpt_responses)\n",
    "        itemized_error.append(sum(np.abs(np.array(scale_generated_responses) - np.array(chatgpt_responses))))\n",
    "\n",
    "        scale_given_score = sum(scale_given_responses)\n",
    "        scale_generated_score = sum(scale_generated_responses)\n",
    "        chatgpt_score = sum(chatgpt_responses)\n",
    "        scale_given_scores.append(scale_given_score)\n",
    "        scale_generated_scores.append(scale_generated_score)\n",
    "        chatgpt_scores.append(chatgpt_score)\n",
    "        keys.append(key[0])\n",
    "\n",
    "    corr_coeff1, p_value1 = function(scale_given_scores, scale_generated_scores)\n",
    "    print(f\"{metric} correlation coefficient {scale_generated} and {scale_given} (real):\", corr_coeff1)\n",
    "    print(\"p-value:\", p_value1)\n",
    "\n",
    "    corr_coeff2, p_value2 = function(chatgpt_scores, scale_given_scores)\n",
    "    print(f\"{metric} correlation coefficient {scale_given} (real) and {scale_generated}(chat-gpt)\", corr_coeff2)\n",
    "    print(\"p-value:\", p_value2)\n",
    "\n",
    "    corr_coeff3, p_value3 = function(chatgpt_scores, scale_generated_scores)\n",
    "    print(f\"{metric} correlation coefficient {scale_generated} and {scale_generated}(chatgpt)\", corr_coeff3)\n",
    "    print(\"p-value:\", p_value3)\n",
    "\n",
    "    error = sum(np.abs(np.array(scale_generated_scores) - np.array(chatgpt_scores))) / len(scale_generated_scores)\n",
    "    error = error / scale_max[scale_generated]\n",
    "    print(f\"aggregated error is {error}\")\n",
    "\n",
    "    itemized_error = sum(itemized_error) / (scale_max[scale_generated] * len(itemized_error))\n",
    "    print(f\"itemized error is {itemized_error}\")\n",
    "\n",
    "    print(\"\\n\\n\")\n",
    "\n",
    "    return corr_coeff1, p_value1, corr_coeff2, p_value2, corr_coeff3, p_value3, error, itemized_error\n"
   ]
  },
  {
   "cell_type": "code",
   "execution_count": 71,
   "id": "407adecc-b323-43cb-9776-84be36b3ba42",
   "metadata": {
    "colab": {
     "base_uri": "https://localhost:8080/"
    },
    "executionInfo": {
     "elapsed": 4,
     "status": "ok",
     "timestamp": 1711308171017,
     "user": {
      "displayName": "Varun Mishra",
      "userId": "16035457180629638947"
     },
     "user_tz": 240
    },
    "id": "407adecc-b323-43cb-9776-84be36b3ba42",
    "outputId": "9a03b594-9fe4-41d9-c283-60820059b3d4",
    "tags": []
   },
   "outputs": [
    {
     "name": "stdout",
     "output_type": "stream",
     "text": [
      "spearman correlation coefficient phq and gad (real): 0.8498628079536316\n",
      "p-value: 3.937441364115329e-104\n",
      "spearman correlation coefficient gad (real) and phq(chat-gpt) 0.9540144664619057\n",
      "p-value: 4.1293567494474376e-194\n",
      "spearman correlation coefficient phq and phq(chatgpt) 0.8074650943099971\n",
      "p-value: 3.9028383669575024e-86\n",
      "aggregated error is 0.13650506875439125\n",
      "itemized error is 0.22101776573321288\n",
      "\n",
      "\n",
      "\n"
     ]
    }
   ],
   "source": [
    "results = calc_metrics(responses_dict, chat_gpt_scores_dict)"
   ]
  }
 ],
 "metadata": {
  "colab": {
   "provenance": [
    {
     "file_id": "1-wj-XFPT74l1kRJiSMHJI9CJPuzqMx8h",
     "timestamp": 1711299104770
    }
   ]
  },
  "kernelspec": {
   "display_name": "basicpy",
   "language": "python",
   "name": "basicpy"
  },
  "language_info": {
   "codemirror_mode": {
    "name": "ipython",
    "version": 3
   },
   "file_extension": ".py",
   "mimetype": "text/x-python",
   "name": "python",
   "nbconvert_exporter": "python",
   "pygments_lexer": "ipython3",
   "version": "3.9.12"
  }
 },
 "nbformat": 4,
 "nbformat_minor": 5
}
