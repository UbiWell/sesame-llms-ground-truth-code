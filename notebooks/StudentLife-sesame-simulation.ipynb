{
 "cells": [
  {
   "cell_type": "code",
   "execution_count": 45,
   "id": "04203170-b9d7-4abd-b721-e6cd0da9433f",
   "metadata": {
    "executionInfo": {
     "elapsed": 213,
     "status": "ok",
     "timestamp": 1711318322233,
     "user": {
      "displayName": "Varun Mishra",
      "userId": "16035457180629638947"
     },
     "user_tz": 240
    },
    "id": "04203170-b9d7-4abd-b721-e6cd0da9433f",
    "tags": []
   },
   "outputs": [],
   "source": [
    "import pandas as pd\n",
    "import numpy as np\n",
    "from scipy.stats import pearsonr, spearmanr\n",
    "from openai import OpenAI as oai\n",
    "import ast\n",
    "from openai import AzureOpenAI\n",
    "import os\n",
    "from langchain.llms import OpenAI\n",
    "from langchain.prompts import PromptTemplate\n",
    "from langchain.chains import SequentialChain\n",
    "from langchain.chains import LLMChain\n",
    "from langchain_openai import ChatOpenAI\n",
    "from langchain.prompts import ChatPromptTemplate\n",
    "from langchain_openai import AzureChatOpenAI\n",
    "import matplotlib.pyplot as plt\n",
    "import math\n",
    "import pingouin as pg\n",
    "import re\n",
    "import pickle"
   ]
  },
  {
   "cell_type": "code",
   "execution_count": 46,
   "id": "aefe8128-d588-4b37-b97f-d945f41285f9",
   "metadata": {
    "executionInfo": {
     "elapsed": 1,
     "status": "ok",
     "timestamp": 1711318231766,
     "user": {
      "displayName": "Varun Mishra",
      "userId": "16035457180629638947"
     },
     "user_tz": 240
    },
    "id": "aefe8128-d588-4b37-b97f-d945f41285f9",
    "tags": []
   },
   "outputs": [],
   "source": [
    "# Class to initialize Azure model\n",
    "class mOpenAI:\n",
    "    def __init__(self):\n",
    "        self.client = AzureOpenAI(\n",
    "            api_key=\"Add your API key\",\n",
    "            api_version=\"Add your API version\",\n",
    "            azure_endpoint=\"Add your API end-point\"\n",
    "        )\n",
    "        self.deployment_name = 'Add your deployment name'"
   ]
  },
  {
   "cell_type": "code",
   "execution_count": 47,
   "id": "d0deb02c-f50c-4f0c-b94d-c27ea5a5d997",
   "metadata": {
    "executionInfo": {
     "elapsed": 218,
     "status": "ok",
     "timestamp": 1711318231983,
     "user": {
      "displayName": "Varun Mishra",
      "userId": "16035457180629638947"
     },
     "user_tz": 240
    },
    "id": "d0deb02c-f50c-4f0c-b94d-c27ea5a5d997",
    "tags": []
   },
   "outputs": [],
   "source": [
    "# Reading responses on scales\n",
    "drive_base = \"../\"\n",
    "pss = pd.read_csv(drive_base + \"StudentLife/PerceivedStressScale.csv\")\n",
    "phq = pd.read_csv(drive_base + \"StudentLife/PHQ-9.csv\")\n",
    "loneliness = pd.read_csv(drive_base + \"StudentLife/LonelinessScale.csv\")\n",
    "flourishing = pd.read_csv(drive_base + \"StudentLife/FlourishingScale.csv\")"
   ]
  },
  {
   "cell_type": "code",
   "execution_count": 48,
   "id": "ZU4pwNQeY70r",
   "metadata": {
    "executionInfo": {
     "elapsed": 4,
     "status": "ok",
     "timestamp": 1711318231983,
     "user": {
      "displayName": "Varun Mishra",
      "userId": "16035457180629638947"
     },
     "user_tz": 240
    },
    "id": "ZU4pwNQeY70r",
    "tags": []
   },
   "outputs": [],
   "source": [
    "loneliness_questions = loneliness.columns[2:]"
   ]
  },
  {
   "cell_type": "code",
   "execution_count": 49,
   "id": "ZsRcFcNMZJX2",
   "metadata": {
    "executionInfo": {
     "elapsed": 4,
     "status": "ok",
     "timestamp": 1711318231983,
     "user": {
      "displayName": "Varun Mishra",
      "userId": "16035457180629638947"
     },
     "user_tz": 240
    },
    "id": "ZsRcFcNMZJX2",
    "tags": []
   },
   "outputs": [],
   "source": [
    "flourishing_questions = list(flourishing.columns[2:])"
   ]
  },
  {
   "cell_type": "code",
   "execution_count": 50,
   "id": "4EKWBQ70Zs8q",
   "metadata": {
    "executionInfo": {
     "elapsed": 4,
     "status": "ok",
     "timestamp": 1711318231983,
     "user": {
      "displayName": "Varun Mishra",
      "userId": "16035457180629638947"
     },
     "user_tz": 240
    },
    "id": "4EKWBQ70Zs8q",
    "tags": []
   },
   "outputs": [],
   "source": [
    "loneliness_questions = [' '.join(l.split(\" \")[1:]) for l in loneliness_questions]\n"
   ]
  },
  {
   "cell_type": "code",
   "execution_count": 51,
   "id": "1avteZHalt-7",
   "metadata": {
    "executionInfo": {
     "elapsed": 4,
     "status": "ok",
     "timestamp": 1711318231983,
     "user": {
      "displayName": "Varun Mishra",
      "userId": "16035457180629638947"
     },
     "user_tz": 240
    },
    "id": "1avteZHalt-7",
    "tags": []
   },
   "outputs": [],
   "source": [
    "phq_questions = list(phq.columns[2: -1])\n",
    "pss_questions = pss.columns[2:]\n",
    "pss_questions = [' '.join(l.split(\" \")[1:]) for l in pss_questions]\n"
   ]
  },
  {
   "cell_type": "code",
   "execution_count": 52,
   "id": "Pey0SChml4Xz",
   "metadata": {
    "colab": {
     "base_uri": "https://localhost:8080/"
    },
    "executionInfo": {
     "elapsed": 4,
     "status": "ok",
     "timestamp": 1711318231983,
     "user": {
      "displayName": "Varun Mishra",
      "userId": "16035457180629638947"
     },
     "user_tz": 240
    },
    "id": "Pey0SChml4Xz",
    "outputId": "4efc05e7-c8fe-42d2-ead8-a354c12ca3cc",
    "tags": []
   },
   "outputs": [
    {
     "data": {
      "text/plain": [
       "['In the last month, how often have you been upset because of something that happened unexpectedly?',\n",
       " 'In the last month, how often have you felt that you were unable to control the important things in your life?',\n",
       " 'In the last month, how often have you felt nervous and \"stressed\"?',\n",
       " 'In the last month, how often have you felt confident about your ability to handle your personal problems?',\n",
       " 'In the last month, how often have you felt that things were going your way?',\n",
       " 'In the last month, how often have you found that you could not cope with all the things that you had to do?',\n",
       " 'In the last month, how often have you been able to control irritations in your life?',\n",
       " 'In the last month, how often have you felt that you were on top of things?',\n",
       " 'In the last month, how often have you been angered because of things that were outside of your control?',\n",
       " 'In the last month, how often have you felt difficulties were piling up so high that you could not overcome them?']"
      ]
     },
     "execution_count": 52,
     "metadata": {},
     "output_type": "execute_result"
    }
   ],
   "source": [
    "pss_questions"
   ]
  },
  {
   "cell_type": "code",
   "execution_count": 11,
   "id": "DAwXRp_KmSSA",
   "metadata": {
    "colab": {
     "base_uri": "https://localhost:8080/"
    },
    "executionInfo": {
     "elapsed": 3,
     "status": "ok",
     "timestamp": 1711318231983,
     "user": {
      "displayName": "Varun Mishra",
      "userId": "16035457180629638947"
     },
     "user_tz": 240
    },
    "id": "DAwXRp_KmSSA",
    "outputId": "b79d55db-13ff-4ce7-eca0-2cbcc3d593a6",
    "tags": []
   },
   "outputs": [
    {
     "data": {
      "text/plain": [
       "['In the last month, how often have you been upset because of something that happened unexpectedly?',\n",
       " 'In the last month, how often have you felt that you were unable to control the important things in your life?',\n",
       " 'In the last month, how often have you felt nervous and \"stressed\"?',\n",
       " 'In the last month, how often have you felt confident about your ability to handle your personal problems?',\n",
       " 'In the last month, how often have you felt that things were going your way?',\n",
       " 'In the last month, how often have you found that you could not cope with all the things that you had to do?',\n",
       " 'In the last month, how often have you been able to control irritations in your life?',\n",
       " 'In the last month, how often have you felt that you were on top of things?',\n",
       " 'In the last month, how often have you been angered because of things that were outside of your control?',\n",
       " 'In the last month, how often have you felt difficulties were piling up so high that you could not overcome them?']"
      ]
     },
     "execution_count": 11,
     "metadata": {},
     "output_type": "execute_result"
    }
   ],
   "source": [
    "pss_questions"
   ]
  },
  {
   "cell_type": "code",
   "execution_count": 12,
   "id": "1snkvKIamSXy",
   "metadata": {
    "colab": {
     "base_uri": "https://localhost:8080/"
    },
    "executionInfo": {
     "elapsed": 2,
     "status": "ok",
     "timestamp": 1711318231983,
     "user": {
      "displayName": "Varun Mishra",
      "userId": "16035457180629638947"
     },
     "user_tz": 240
    },
    "id": "1snkvKIamSXy",
    "outputId": "ef352f38-f5cc-44ad-e2dd-051089910521",
    "tags": []
   },
   "outputs": [
    {
     "data": {
      "text/plain": [
       "['I feel in tune with the people around me',\n",
       " 'I lack companionship',\n",
       " 'There is no one I can turn to',\n",
       " 'I do not feel alone',\n",
       " 'I feel part of a group of friends',\n",
       " 'I have a lot in common with the people around me',\n",
       " 'I am no longer close to anyone',\n",
       " 'My interests and ideas are not shared by those around me',\n",
       " 'I am an outgoing person',\n",
       " 'There are people I feel close to',\n",
       " 'I feel left out',\n",
       " 'My social relationships are superficial',\n",
       " 'No one really knows me well',\n",
       " 'I feel isolated from others',\n",
       " 'I can find companionship when I want it',\n",
       " 'There are people who really understand me',\n",
       " 'I am unhappy being so withdrawn',\n",
       " 'People are around me but not with me',\n",
       " 'There are people I can talk to',\n",
       " 'There are people I can turn to']"
      ]
     },
     "execution_count": 12,
     "metadata": {},
     "output_type": "execute_result"
    }
   ],
   "source": [
    "loneliness_questions"
   ]
  },
  {
   "cell_type": "code",
   "execution_count": 13,
   "id": "F3Z6lI3TmSc3",
   "metadata": {
    "colab": {
     "base_uri": "https://localhost:8080/"
    },
    "executionInfo": {
     "elapsed": 2,
     "status": "ok",
     "timestamp": 1711318231983,
     "user": {
      "displayName": "Varun Mishra",
      "userId": "16035457180629638947"
     },
     "user_tz": 240
    },
    "id": "F3Z6lI3TmSc3",
    "outputId": "5b8900bb-7be0-4329-d285-c131edc9c8df",
    "tags": []
   },
   "outputs": [
    {
     "data": {
      "text/plain": [
       "['Little interest or pleasure in doing things',\n",
       " 'Feeling down, depressed, hopeless.',\n",
       " 'Trouble falling or staying asleep, or sleeping too much.',\n",
       " 'Feeling tired or having little energy',\n",
       " 'Poor appetite or overeating',\n",
       " 'Feeling bad about yourself or that you are a failure or have let yourself or your family down',\n",
       " 'Trouble concentrating on things, such as reading the newspaper or watching television',\n",
       " 'Moving or speaking so slowly that other people could have noticed. Or the opposite being so figety or restless that you have been moving around a lot more than usual',\n",
       " 'Thoughts that you would be better off dead, or of hurting yourself']"
      ]
     },
     "execution_count": 13,
     "metadata": {},
     "output_type": "execute_result"
    }
   ],
   "source": [
    "phq_questions"
   ]
  },
  {
   "cell_type": "code",
   "execution_count": 15,
   "id": "SQpV3KRGaNvu",
   "metadata": {
    "executionInfo": {
     "elapsed": 182,
     "status": "ok",
     "timestamp": 1711318232344,
     "user": {
      "displayName": "Varun Mishra",
      "userId": "16035457180629638947"
     },
     "user_tz": 240
    },
    "id": "SQpV3KRGaNvu",
    "tags": []
   },
   "outputs": [],
   "source": [
    "# Function to calculates aggregated loneliness scores\n",
    "def calculate_loneliness_score(answers):\n",
    "    assert (len(answers) == 20)\n",
    "    reversed_scores = [4 - ans if i+1 in [1, 4, 5, 6, 9, 10, 15, 16, 19, 20] else ans for i, ans in enumerate(answers)]\n",
    "    # Calculate total score\n",
    "    total_score = sum(reversed_scores)\n",
    "    return total_score"
   ]
  },
  {
   "cell_type": "code",
   "execution_count": 16,
   "id": "d28ecf09-d042-43ed-89c4-517f3efe299a",
   "metadata": {
    "executionInfo": {
     "elapsed": 170,
     "status": "ok",
     "timestamp": 1711318233475,
     "user": {
      "displayName": "Varun Mishra",
      "userId": "16035457180629638947"
     },
     "user_tz": 240
    },
    "id": "d28ecf09-d042-43ed-89c4-517f3efe299a",
    "tags": []
   },
   "outputs": [],
   "source": [
    "# Function to calculates aggregated PSS score\n",
    "def calculate_pss_score(answers):\n",
    "    assert (len(answers) == 10)\n",
    "    reversed_scores = [4 - ans if i in [3, 4, 6, 7] else ans for i, ans in enumerate(answers)]\n",
    "    # Calculate total score\n",
    "    total_score = sum(reversed_scores)\n",
    "\n",
    "    return total_score"
   ]
  },
  {
   "cell_type": "code",
   "execution_count": 17,
   "id": "7ce032ef-ea34-461e-9ef5-fa0fb9d6a4f8",
   "metadata": {
    "executionInfo": {
     "elapsed": 169,
     "status": "ok",
     "timestamp": 1711318234243,
     "user": {
      "displayName": "Varun Mishra",
      "userId": "16035457180629638947"
     },
     "user_tz": 240
    },
    "id": "7ce032ef-ea34-461e-9ef5-fa0fb9d6a4f8",
    "tags": []
   },
   "outputs": [],
   "source": [
    "pss_scale = {\n",
    "    \"Never\": 0,\n",
    "    \"Almost never\": 1,\n",
    "    \"Sometimes\": 2,\n",
    "    \"Sometime\": 2,\n",
    "    \"Fairly often\": 3,\n",
    "    \"Very often\": 4,\n",
    "     np.nan: 2\n",
    "}\n",
    "\n",
    "phq_scale = {\n",
    "    \"Not at all\": 0,\n",
    "    \"Several days\": 1,\n",
    "    \"More than half the days\": 2,\n",
    "    \"Nearly every day\": 3\n",
    "}\n",
    "\n",
    "loneliness_scale = {\n",
    "    \"Often\": 4,\n",
    "    \"Sometimes\": 3,\n",
    "    \"Rarely\": 2,\n",
    "    \"Never\": 1\n",
    "}\n",
    "\n",
    "flourishing_scale = {\n",
    "    \"Strongly disagree\": 1,\n",
    "    \"Disagree\": 2,\n",
    "    \"Slightly disagree\": 3,\n",
    "    \"Mixed or neither agree nor disagree\": 4,\n",
    "    \"Slightly agree\": 5,\n",
    "    \"Agree\": 6,\n",
    "    \"Strongly agree\": 7\n",
    "}"
   ]
  },
  {
   "cell_type": "code",
   "execution_count": 18,
   "id": "f1ffc2b0-9bf2-4468-9a34-066e4421eb1d",
   "metadata": {
    "executionInfo": {
     "elapsed": 601,
     "status": "ok",
     "timestamp": 1711318239346,
     "user": {
      "displayName": "Varun Mishra",
      "userId": "16035457180629638947"
     },
     "user_tz": 240
    },
    "id": "f1ffc2b0-9bf2-4468-9a34-066e4421eb1d",
    "tags": []
   },
   "outputs": [],
   "source": [
    "# Saving real responses to scale in a dict\n",
    "responses_dict = {}\n",
    "for i, row in phq.iterrows():\n",
    "    phq_responses = row.values.tolist()[2:-1]\n",
    "    pss_row = pss[(pss['uid'] == row['uid']) & (pss['type'] == row['type'])]\n",
    "    loneliness_row = loneliness[(loneliness['uid'] == row['uid']) & (loneliness['type'] == row['type'])]\n",
    "    flourishing_row = flourishing[(flourishing['uid'] == row['uid']) & (flourishing['type'] == row['type'])]\n",
    "    if(pss_row.empty or loneliness_row.empty or flourishing_row.empty):\n",
    "        continue\n",
    "    pss_responses  = pss_row.values.tolist()[0][2:]\n",
    "    loneliness_responses  = loneliness_row.values.tolist()[0][2:]\n",
    "    flourishing_responses = flourishing_row.values.tolist()[0][2:]\n",
    "\n",
    "    pss_response_num = [pss_scale[p] for p in pss_responses]\n",
    "    phq_response_num = [phq_scale[p] for p in phq_responses]\n",
    "    loneliness_responses = [loneliness_scale[p] for p in loneliness_responses]\n",
    "    flourishing_responses = [int(p) if not math.isnan(p) else 4 for p in flourishing_responses]\n",
    "    responses_dict[(row['uid'], row['type'])] = {\"phq\": phq_response_num, \"pss\": pss_response_num, \"loneliness\":loneliness_responses, \"flourishing\": flourishing_responses }"
   ]
  },
  {
   "cell_type": "code",
   "execution_count": 19,
   "id": "Fu-Jy-2Rc2ys",
   "metadata": {
    "executionInfo": {
     "elapsed": 1,
     "status": "ok",
     "timestamp": 1711318239516,
     "user": {
      "displayName": "Varun Mishra",
      "userId": "16035457180629638947"
     },
     "user_tz": 240
    },
    "id": "Fu-Jy-2Rc2ys",
    "tags": []
   },
   "outputs": [],
   "source": [
    "# Uncomment to save responses dict\n",
    "#  with open(drive_base + f\"outputs/studentLife-original-responses\", 'wb') as file:\n",
    "#       pickle.dump(responses_dict, file)"
   ]
  },
  {
   "cell_type": "markdown",
   "id": "5c075d12-099c-42b2-aa95-1f17f42d446d",
   "metadata": {},
   "source": [
    "### Configuration"
   ]
  },
  {
   "cell_type": "code",
   "execution_count": 44,
   "id": "SOSU6cVRe5eL",
   "metadata": {
    "executionInfo": {
     "elapsed": 150,
     "status": "ok",
     "timestamp": 1711318240518,
     "user": {
      "displayName": "Varun Mishra",
      "userId": "16035457180629638947"
     },
     "user_tz": 240
    },
    "id": "SOSU6cVRe5eL",
    "tags": []
   },
   "outputs": [],
   "source": [
    "# Configuration to run the model\n",
    "api_to_use = \"Azure\" # Options: \"Azure\" and \"OpenAI\"\n",
    "prompting_method = \"direct\" # Options: \"direct\" and \"chain_of_thought\"\n",
    "# change these for different scale: pss, phq, loneliness, flourishing\n",
    "scale_given = \"pss\"\n",
    "scale_generated = \"phq\"\n",
    "rerun = False # False: load from disk and True: rerun GPT model"
   ]
  },
  {
   "cell_type": "code",
   "execution_count": 21,
   "id": "9d11efd9-f109-472c-9a87-524f22a0563e",
   "metadata": {
    "executionInfo": {
     "elapsed": 202,
     "status": "ok",
     "timestamp": 1711318241528,
     "user": {
      "displayName": "Varun Mishra",
      "userId": "16035457180629638947"
     },
     "user_tz": 240
    },
    "id": "9d11efd9-f109-472c-9a87-524f22a0563e",
    "tags": []
   },
   "outputs": [],
   "source": [
    "# Function to get aggregated scores for scales\n",
    "def get_scores_responses(responses, scale):\n",
    "    if scale == \"pss\":\n",
    "        return calculate_pss_score(responses)\n",
    "    elif scale == \"loneliness\":\n",
    "        return calculate_loneliness_score(responses)\n",
    "    else:\n",
    "        return sum(responses)\n"
   ]
  },
  {
   "cell_type": "code",
   "execution_count": 23,
   "id": "fe8c2417-0911-420b-82c1-5131c655f736",
   "metadata": {
    "colab": {
     "base_uri": "https://localhost:8080/"
    },
    "executionInfo": {
     "elapsed": 166,
     "status": "ok",
     "timestamp": 1711318243077,
     "user": {
      "displayName": "Varun Mishra",
      "userId": "16035457180629638947"
     },
     "user_tz": 240
    },
    "id": "fe8c2417-0911-420b-82c1-5131c655f736",
    "outputId": "1321aec8-58bb-4188-8cc9-800723e54797",
    "tags": []
   },
   "outputs": [
    {
     "name": "stdout",
     "output_type": "stream",
     "text": [
      "Pearson correlation coefficient pss and phq (real): 0.6231417416777991\n",
      "p-value: 6.707834731009549e-10\n",
      "Spearman correlation coefficient pss and phq (real): 0.5299244775723991\n",
      "p-value: 4.305239570624242e-07\n"
     ]
    }
   ],
   "source": [
    "# correlation between real responses on scales\n",
    "scale_given_scores = [get_scores_responses(responses_dict[r][scale_given], scale_given) for r in responses_dict]\n",
    "scale_generated_scores = [get_scores_responses(responses_dict[r][scale_generated], scale_generated) for r in responses_dict]\n",
    "\n",
    "corr_coeff, p_value = pearsonr(scale_given_scores, scale_generated_scores)\n",
    "print(f\"Pearson correlation coefficient {scale_given} and {scale_generated} (real):\", corr_coeff)\n",
    "print(\"p-value:\", p_value)\n",
    "\n",
    "corr_coeff, p_value = spearmanr(scale_given_scores, scale_generated_scores)\n",
    "print(f\"Spearman correlation coefficient {scale_given} and {scale_generated} (real):\", corr_coeff)\n",
    "print(\"p-value:\", p_value)"
   ]
  },
  {
   "cell_type": "code",
   "execution_count": 25,
   "id": "25a88b3f-5117-4546-bee3-c6cc9cc57af1",
   "metadata": {
    "colab": {
     "base_uri": "https://localhost:8080/",
     "height": 472
    },
    "executionInfo": {
     "elapsed": 1101,
     "status": "ok",
     "timestamp": 1711318245605,
     "user": {
      "displayName": "Varun Mishra",
      "userId": "16035457180629638947"
     },
     "user_tz": 240
    },
    "id": "25a88b3f-5117-4546-bee3-c6cc9cc57af1",
    "outputId": "88f61eaf-8d17-4f20-98c7-4237b655070f",
    "tags": []
   },
   "outputs": [
    {
     "data": {
      "image/png": "[encoded data removed]",
      "text/plain": [
       "<Figure size 432x288 with 1 Axes>"
      ]
     },
     "metadata": {
      "needs_background": "light"
     },
     "output_type": "display_data"
    }
   ],
   "source": [
    "# plotting the scatter plots distribution of scales\n",
    "import numpy as np\n",
    "import matplotlib.pyplot as plt\n",
    "\n",
    "data = list(zip(scale_given_scores, scale_generated_scores))\n",
    "x_data = np.array([point[0] for point in data])\n",
    "y_data = np.array([point[1] for point in data])\n",
    "\n",
    "plt.scatter(x_data, y_data, label='Original Data')\n",
    "plt.xlabel(scale_given + ' scores')\n",
    "plt.ylabel(scale_generated + ' scores')\n",
    "plt.title('Scatter Plot')\n",
    "plt.legend()\n",
    "plt.grid(True)\n",
    "plt.show()"
   ]
  },
  {
   "cell_type": "code",
   "execution_count": 23,
   "id": "1ec47c7a-f54e-42e0-984b-7d303d0245d1",
   "metadata": {
    "executionInfo": {
     "elapsed": 203,
     "status": "ok",
     "timestamp": 1711318246617,
     "user": {
      "displayName": "Varun Mishra",
      "userId": "16035457180629638947"
     },
     "user_tz": 240
    },
    "id": "1ec47c7a-f54e-42e0-984b-7d303d0245d1",
    "tags": []
   },
   "outputs": [],
   "source": [
    "#prompts for different scales"
   ]
  },
  {
   "cell_type": "code",
   "execution_count": 26,
   "id": "f4886266-cc72-4f65-a715-6a8ddf9eb18d",
   "metadata": {
    "executionInfo": {
     "elapsed": 2,
     "status": "ok",
     "timestamp": 1711318247175,
     "user": {
      "displayName": "Varun Mishra",
      "userId": "16035457180629638947"
     },
     "user_tz": 240
    },
    "id": "f4886266-cc72-4f65-a715-6a8ddf9eb18d",
    "tags": []
   },
   "outputs": [],
   "source": [
    "phq_dict = {\n",
    "    \"questions\": phq_questions,\n",
    "    \"asking_prompt\": \"score the given PHQ scale questions as the person 'X' would have from 0 to 3 (inclusive). 0 denotes 'Not at all', 1 denotes 'Several days', 2 denotes 'more than half days', 3 denotes 'nearly everyday'. Here are the statements, score them one by one:\",\n",
    "    \"asking_prompt_demo\": \"score the given PHQ scale questions as the person 'X' would have from 0 to 3 (inclusive). 0 denotes 'Not at all', 1 denotes 'Several days', 2 denotes 'more than half days', 3 denotes 'nearly everyday'. Make sure to use demographic information too. Here are the statements, score them one by one:\",\n",
    "\n",
    "    \"asking_prompt_chain\": \"score the given PHQ scale questions as the person 'X' would have from 0 to 3 (inclusive). 0 denotes 'Not at all', 1 denotes 'Several days', 2 denotes 'more than half days', 3 denotes 'nearly everyday'. Here are the statements, think step by step and score one by one\",\n",
    "    \"providing_prompt\": \"Suppose person 'X' answered these PHQ scale questions from 0 to 3 where 0 denotes 'Not at all', 1 denotes 'Several days', 2 denotes 'more than half days', 3 denotes 'nearly everyday'. Here are the statements:\"\n",
    "}"
   ]
  },
  {
   "cell_type": "code",
   "execution_count": 27,
   "id": "8e0434f0-3b37-49e4-bc5d-f2af4a4c9d88",
   "metadata": {
    "executionInfo": {
     "elapsed": 2,
     "status": "ok",
     "timestamp": 1711318247665,
     "user": {
      "displayName": "Varun Mishra",
      "userId": "16035457180629638947"
     },
     "user_tz": 240
    },
    "id": "8e0434f0-3b37-49e4-bc5d-f2af4a4c9d88",
    "tags": []
   },
   "outputs": [],
   "source": [
    "pss_dict = {\n",
    "    \"questions\": pss_questions,\n",
    "    \"asking_prompt\": \"score the given PSS scale questions as person 'X' would have from 0 to 4 (inclusive). 0 denotes 'Never', 1 denotes 'Almost never', 2 denotes 'Sometimes', 3 denotes 'Fairly often', and 4 denotes 'Very often'. Here are the statements, score them one by one:\",\n",
    "    \"asking_prompt_chain\": \"score the given PSS scale questions as person 'X' would have from 0 to 4 (inclusive). 0 denotes 'Never', 1 denotes 'Almost never', 2 denotes 'Sometimes', 3 denotes 'Fairly often', and 4 denotes 'Very often'. Here are the statements, think and score them one by one:\",\n",
    "\n",
    "    \"providing_prompt\": \"Suppose person 'X' answered these PSS scale questions from 0 to 4 where 0 denotes 'Never', 1 denotes 'Almost never', 2 denotes 'Sometimes', 3 denotes 'Fairly often', and 4 denotes 'Very often'. Here are the statements:\"\n",
    "}"
   ]
  },
  {
   "cell_type": "code",
   "execution_count": 28,
   "id": "gTpQxEtwneCo",
   "metadata": {
    "executionInfo": {
     "elapsed": 0,
     "status": "ok",
     "timestamp": 1711318248045,
     "user": {
      "displayName": "Varun Mishra",
      "userId": "16035457180629638947"
     },
     "user_tz": 240
    },
    "id": "gTpQxEtwneCo",
    "tags": []
   },
   "outputs": [],
   "source": [
    "loneliness_dict = {\n",
    "    \"questions\": loneliness_questions,\n",
    "    \"asking_prompt\": \"score the given Loneliness scale questions as person 'X' would have from 1 to 4 (inclusive). 1 denotes 'Never', 2 denotes 'Rarely', 3 denotes 'Sometimes', and 4 denotes 'Often'. Here are the statements, score them one by one:\",\n",
    "    \"asking_prompt_chain\": \"score the given Loneliness scale questions as person 'X' would have from 1 to 4 (inclusive). 1 denotes 'Never', 2 denotes 'Rarely', 3 denotes 'Sometimes', and 4 denotes 'Often'. Here are the statements, think and score them one by one:\",\n",
    "\n",
    "    \"providing_prompt\": \"Suppose person 'X' answered these Loneliness scale questions from 1 to 4 where 1 denotes 'Never', 2 denotes 'Rarely', 3 denotes 'Sometimes', and 4 denotes 'Often'. Here are the statements:\"\n",
    "}"
   ]
  },
  {
   "cell_type": "code",
   "execution_count": 29,
   "id": "iS3kZtVJneFB",
   "metadata": {
    "executionInfo": {
     "elapsed": 1,
     "status": "ok",
     "timestamp": 1711318248252,
     "user": {
      "displayName": "Varun Mishra",
      "userId": "16035457180629638947"
     },
     "user_tz": 240
    },
    "id": "iS3kZtVJneFB",
    "tags": []
   },
   "outputs": [],
   "source": [
    "flourishing_dict = {\n",
    "    \"questions\": flourishing_questions,\n",
    "    \"asking_prompt\": \"score the given Flourishing scale questions as person 'X' would have from 1 to 7 (inclusive). 1 denotes 'Strongly disagree', 2 denotes 'Disagree', 3 denotes 'Slightly disagree', 4 denotes 'Mixed or neither agree nor disagree', 5 denotes 'Slightly agree', 6 denotes 'Agree', and 7 denotes 'Strongly agree'. Here are the statements, score them one by one:\",\n",
    "    \"asking_prompt_chain\": \"score the given Flourishing scale questions as person 'X' would have from 1 to 7 (inclusive). 1 denotes 'Strongly disagree', 2 denotes 'Disagree', 3 denotes 'Slightly disagree', 4 denotes 'Mixed or neither agree nor disagree', 5 denotes 'Slightly agree', 6 denotes 'Agree', and 7 denotes 'Strongly agree'. Here are the statements, think and score them one by one:\",\n",
    "\n",
    "    \"providing_prompt\": \"Suppose person 'X' answered these Flourishing scale questions from 1 to 7 where 1 denotes 'Strongly disagree', 2 denotes 'Disagree', 3 denotes 'Slightly disagree', 4 denotes 'Mixed or neither agree nor disagree', 5 denotes 'Slightly agree', 6 denotes 'Agree', and 7 denotes 'Strongly agree'. Here are the statements:\"\n",
    "}"
   ]
  },
  {
   "cell_type": "code",
   "execution_count": 30,
   "id": "m2EiOWO1qBAJ",
   "metadata": {
    "executionInfo": {
     "elapsed": 191,
     "status": "ok",
     "timestamp": 1711318248786,
     "user": {
      "displayName": "Varun Mishra",
      "userId": "16035457180629638947"
     },
     "user_tz": 240
    },
    "id": "m2EiOWO1qBAJ",
    "tags": []
   },
   "outputs": [],
   "source": [
    "prompt_dict = {\"phq\": phq_dict, \"pss\": pss_dict, \"loneliness\": loneliness_dict, \"flourishing\": flourishing_dict}"
   ]
  },
  {
   "cell_type": "code",
   "execution_count": 31,
   "id": "1hFM6-CpcGni",
   "metadata": {
    "executionInfo": {
     "elapsed": 1,
     "status": "ok",
     "timestamp": 1711318248786,
     "user": {
      "displayName": "Varun Mishra",
      "userId": "16035457180629638947"
     },
     "user_tz": 240
    },
    "id": "1hFM6-CpcGni",
    "tags": []
   },
   "outputs": [],
   "source": [
    "# max possible score on scale\n",
    "scale_max = {'phq': 27, 'pss':40 , \"loneliness\":80, \"flourishing\":56}"
   ]
  },
  {
   "cell_type": "code",
   "execution_count": 32,
   "id": "akUzSyh3q2W8",
   "metadata": {
    "executionInfo": {
     "elapsed": 3,
     "status": "ok",
     "timestamp": 1711318249382,
     "user": {
      "displayName": "Varun Mishra",
      "userId": "16035457180629638947"
     },
     "user_tz": 240
    },
    "id": "akUzSyh3q2W8",
    "tags": []
   },
   "outputs": [],
   "source": [
    "# extracts list of scores from GPT repsonses\n",
    "def extract_list(text):\n",
    "    try:\n",
    "        pattern = r'\\[(.*?)\\]'\n",
    "        match = re.search(pattern, text)\n",
    "        if match:\n",
    "            return [int(x) for x in match.group(1).split(',')]\n",
    "        else:\n",
    "            return None\n",
    "    except AttributeError:\n",
    "        return None"
   ]
  },
  {
   "cell_type": "code",
   "execution_count": 33,
   "id": "cd4cb1a9-db6b-4127-bd7d-f0258a37a505",
   "metadata": {
    "executionInfo": {
     "elapsed": 1,
     "status": "ok",
     "timestamp": 1711318249906,
     "user": {
      "displayName": "Varun Mishra",
      "userId": "16035457180629638947"
     },
     "user_tz": 240
    },
    "id": "cd4cb1a9-db6b-4127-bd7d-f0258a37a505",
    "tags": []
   },
   "outputs": [],
   "source": [
    "# Function to generate prompt\n",
    "def prompt_generator(scale_given_scores, single_chain = True):\n",
    "    prompt = ''\n",
    "    prompt_chain = ''\n",
    "    pysc = \"Based on responses understand the psychological state of person 'X'\"\n",
    "    given = prompt_dict[scale_given]\n",
    "    generate = prompt_dict[scale_generated]\n",
    "    scores = scale_given_scores\n",
    "\n",
    "    prompt = given[\"providing_prompt\"] + \"\\n\\n\"\n",
    "\n",
    "    questions = \"\"\n",
    "    for q, s in zip(given[\"questions\"], scores):\n",
    "        questions += q + \"\\n\"\n",
    "        questions += str(s) + \"\\n\"\n",
    "\n",
    "    questions += \"\\n\"\n",
    "    prompt += questions\n",
    "\n",
    "    if(single_chain):\n",
    "        len_of_scores = len(generate['questions'])\n",
    "        prompt = prompt + pysc\n",
    "        prompt += \" and \"\n",
    "        prompt += generate[\"asking_prompt\"]\n",
    "        prompt += \"\\n\\n\"\n",
    "\n",
    "        for q in generate[\"questions\"]:\n",
    "            prompt += q + \"\\n\"\n",
    "\n",
    "        prompt = prompt + f\"Think step by step and finally only return a list of {len_of_scores} scores you provided in format [scores] as output and nothing else\"\n",
    "    else:\n",
    "        prompt = prompt + pysc\n",
    "        prompt += \" and \"\n",
    "        prompt += generate[\"asking_prompt_chain\"]\n",
    "        prompt += \"\\n\\n\"\n",
    "\n",
    "        for q in generate[\"questions\"]:\n",
    "            prompt += q + \"\\n\"\n",
    "\n",
    "        len_of_scores = len(generate['questions'])\n",
    "\n",
    "        prompt_chain = prompt_chain + f\"Now return the {len_of_scores} scores in a list [scores]\"\n",
    "    return prompt, prompt_chain"
   ]
  },
  {
   "cell_type": "code",
   "execution_count": 34,
   "id": "20e72646-cefd-4b7b-96ff-98567d12a2eb",
   "metadata": {
    "executionInfo": {
     "elapsed": 246,
     "status": "ok",
     "timestamp": 1711318250610,
     "user": {
      "displayName": "Varun Mishra",
      "userId": "16035457180629638947"
     },
     "user_tz": 240
    },
    "id": "20e72646-cefd-4b7b-96ff-98567d12a2eb",
    "tags": []
   },
   "outputs": [],
   "source": [
    "chat_gpt_scores_dict = {}"
   ]
  },
  {
   "cell_type": "code",
   "execution_count": 35,
   "id": "f5129d18-a1c3-430e-991c-298b5bf11a7a",
   "metadata": {
    "executionInfo": {
     "elapsed": 1,
     "status": "ok",
     "timestamp": 1711318251017,
     "user": {
      "displayName": "Varun Mishra",
      "userId": "16035457180629638947"
     },
     "user_tz": 240
    },
    "id": "f5129d18-a1c3-430e-991c-298b5bf11a7a",
    "tags": []
   },
   "outputs": [],
   "source": [
    "# Function to run the model\n",
    "def run_GPT_models():\n",
    "    print(f\"generating for scale {scale_generated} from {scale_given}\")\n",
    "    if(prompting_method == \"direct\"):\n",
    "        if (api_to_use == \"Azure\"):\n",
    "            print(\"using Azure\")\n",
    "            client = mOpenAI().client\n",
    "            deployment_name = mOpenAI().deployment_name\n",
    "        else:\n",
    "            client = oai()\n",
    "            deployment_name = \"gpt-4-turbo-preview\"\n",
    "    else:\n",
    "        if (api_to_use == \"Azure\"):\n",
    "            print(\"using Azure\")\n",
    "            llm = AzureChatOpenAI(deployment_name=\"NUHAI-GPT4\", model_name=\"gpt-4-turbo-preview\", api_version=\"2023-12-01-preview\")\n",
    "        else:\n",
    "            llm = ChatOpenAI(model_name=\"gpt-4-turbo-preview\")\n",
    "\n",
    "    sample_prompt = True\n",
    "    for key in responses_dict:\n",
    "        if (key not in chat_gpt_scores_dict.keys() or chat_gpt_scores_dict[key] == []):\n",
    "            scores = []\n",
    "            scale_given_responses = responses_dict[key][scale_given]\n",
    "            scale_generated_responses = responses_dict[key][scale_generated]\n",
    "            prompt1, prompt2 = prompt_generator(scale_given_responses, prompting_method == \"direct\")\n",
    "\n",
    "            if sample_prompt:\n",
    "                print(prompt1)\n",
    "                print(\"***********\")\n",
    "                print(prompt2)\n",
    "                sample_prompt = False\n",
    "\n",
    "            if(prompting_method == \"direct\"):\n",
    "                response = client.chat.completions.create(\n",
    "                      model=deployment_name, messages=[{\"role\": \"user\", \"content\": prompt1},]\n",
    "            )\n",
    "                scores = response.choices[0].message.content\n",
    "\n",
    "            else:\n",
    "                prompt1 = PromptTemplate(template=prompt1, input_variables=[])\n",
    "                prompt2 = PromptTemplate(template=prompt2, input_variables =[])\n",
    "\n",
    "                chain1 = LLMChain(llm=llm, prompt= prompt1, output_key=\"psyc\")\n",
    "                chain2 = LLMChain(llm=llm, prompt= prompt2, output_key=\"scores\")\n",
    "\n",
    "\n",
    "                overall_chain = SequentialChain(\n",
    "                    chains=[chain1, chain2],\n",
    "                    input_variables = [],\n",
    "                    output_variables=[\"psyc\", \"scores\"],\n",
    "                    verbose=True)\n",
    "\n",
    "                response = overall_chain({})\n",
    "                scores = response[\"scores\"]\n",
    "\n",
    "            scores = extract_list(scores)\n",
    "            expected_size = len(prompt_dict[scale_generated]['questions'])\n",
    "\n",
    "            if(scores == None or len(scores) != expected_size):\n",
    "                scores = []\n",
    "\n",
    "            chat_gpt_scores_dict[key] = scores"
   ]
  },
  {
   "cell_type": "code",
   "execution_count": 38,
   "id": "ogI6oIFzM6gI",
   "metadata": {
    "executionInfo": {
     "elapsed": 197,
     "status": "ok",
     "timestamp": 1711318276228,
     "user": {
      "displayName": "Varun Mishra",
      "userId": "16035457180629638947"
     },
     "user_tz": 240
    },
    "id": "ogI6oIFzM6gI",
    "tags": []
   },
   "outputs": [],
   "source": [
    "def run_iterations(iterations):\n",
    "    for i in range(0, iterations):\n",
    "        print(f\"running for iteration {i}\")\n",
    "        if rerun:\n",
    "            global chat_gpt_scores_dict\n",
    "            chat_gpt_scores_dict = {}\n",
    "            while True:\n",
    "                run_GPT_models()\n",
    "                if [] not in chat_gpt_scores_dict.values():\n",
    "                    break\n",
    "\n",
    "            with open(drive_base + f\"outputs/studentLife-GPT4-{scale_generated}-given-{scale_given}_iteration_{i}\", 'wb') as file:\n",
    "                pickle.dump(chat_gpt_scores_dict, file)\n",
    "        else:\n",
    "            with open(drive_base + f\"outputs/studentLife-GPT4-{scale_generated}-given-{scale_given}_iteration_{i}\", 'rb') as file:\n",
    "                chat_gpt_scores_dict = pickle.load(file)\n",
    "\n",
    "        calc_metrics(responses_dict, chat_gpt_scores_dict)\n"
   ]
  },
  {
   "cell_type": "code",
   "execution_count": 37,
   "id": "9a71f923-e718-4195-bab5-51ae125408d8",
   "metadata": {
    "executionInfo": {
     "elapsed": 220,
     "status": "ok",
     "timestamp": 1711318375812,
     "user": {
      "displayName": "Varun Mishra",
      "userId": "16035457180629638947"
     },
     "user_tz": 240
    },
    "id": "9a71f923-e718-4195-bab5-51ae125408d8",
    "tags": []
   },
   "outputs": [],
   "source": [
    "def calc_metrics(responses_dict, chat_gpt_scores_dict, metric=\"spearman\"):\n",
    "    if metric == \"spearman\":\n",
    "        function = spearmanr\n",
    "    else:\n",
    "        function = \"pearson\"\n",
    "\n",
    "    scale_given_scores = []\n",
    "    scale_generated_scores = []\n",
    "    chatgpt_scores = []\n",
    "    itemized_error = []\n",
    "    keys = []\n",
    "    for key in responses_dict:\n",
    "        scale_given_responses = responses_dict[key][scale_given]\n",
    "        scale_generated_responses = responses_dict[key][scale_generated]\n",
    "        chatgpt_responses = chat_gpt_scores_dict[key]\n",
    "\n",
    "        assert len(scale_generated_responses) == len(chatgpt_responses)\n",
    "        itemized_error.append(sum(np.abs(np.array(scale_generated_responses) - np.array(chatgpt_responses))))\n",
    "\n",
    "        scale_given_score = get_scores_responses(scale_given_responses, scale_given)\n",
    "        scale_generated_score = get_scores_responses(scale_generated_responses, scale_generated)\n",
    "        chatgpt_score = get_scores_responses(chatgpt_responses, scale_generated)\n",
    "        scale_given_scores.append(scale_given_score)\n",
    "        scale_generated_scores.append(scale_generated_score)\n",
    "        chatgpt_scores.append(chatgpt_score)\n",
    "        keys.append(key[0])\n",
    "\n",
    "    corr_coeff1, p_value1 = function(scale_given_scores, scale_generated_scores)\n",
    "    print(f\"{metric} correlation coefficient {scale_generated} and {scale_given} (real):\", corr_coeff1)\n",
    "    print(\"p-value:\", p_value1)\n",
    "\n",
    "    corr_coeff2, p_value2 = function(chatgpt_scores, scale_given_scores)\n",
    "    print(f\"{metric} correlation coefficient {scale_given} (real) and {scale_generated}(chat-gpt)\", corr_coeff2)\n",
    "    print(\"p-value:\", p_value2)\n",
    "\n",
    "    corr_coeff3, p_value3 = function(chatgpt_scores, scale_generated_scores)\n",
    "    print(f\"{metric} correlation coefficient {scale_generated} and {scale_generated}(chatgpt)\", corr_coeff3)\n",
    "    print(\"p-value:\", p_value3)\n",
    "\n",
    "    error = sum(np.abs(np.array(scale_generated_scores) - np.array(chatgpt_scores))) / len(scale_generated_scores)\n",
    "    error = error / scale_max[scale_generated]\n",
    "    print(f\"aggregated error is {error}\")\n",
    "\n",
    "    itemized_error = sum(itemized_error) / (scale_max[scale_generated] * len(itemized_error))\n",
    "    print(f\"itemized error is {itemized_error}\")\n",
    "\n",
    "    print(\"\\n\\n\")\n",
    "\n",
    "    return corr_coeff1, p_value1, corr_coeff2, p_value2, corr_coeff3, p_value3, error, itemized_error\n"
   ]
  },
  {
   "cell_type": "code",
   "execution_count": 39,
   "id": "c2V6e72fTu5h",
   "metadata": {
    "executionInfo": {
     "elapsed": 249,
     "status": "ok",
     "timestamp": 1711318579575,
     "user": {
      "displayName": "Varun Mishra",
      "userId": "16035457180629638947"
     },
     "user_tz": 240
    },
    "id": "c2V6e72fTu5h",
    "tags": []
   },
   "outputs": [],
   "source": [
    "def get_metrics_after_run(iterations):\n",
    "    c1s = []\n",
    "    p1s = []\n",
    "    c2s = []\n",
    "    p2s = []\n",
    "    c3s = []\n",
    "    p3s = []\n",
    "    errors = []\n",
    "    itemized_errors = []\n",
    "    for i in range(1, iterations):\n",
    "        print(f\"running for iteration {i}\")\n",
    "\n",
    "        with open(drive_base + f\"outputs/studentLife-GPT4-{scale_generated}-given-{scale_given}_iteration_{i}\", 'rb') as file:\n",
    "            chat_gpt_scores = pickle.load(file)\n",
    "\n",
    "        c1, p1, c2, p2, c3, p3, e, e_i = calc_metrics(responses_dict, chat_gpt_scores)\n",
    "\n",
    "        c1s.append(c1)\n",
    "        c2s.append(c2)\n",
    "        c3s.append(c3)\n",
    "        p1s.append(p1)\n",
    "        p2s.append(p2)\n",
    "        p3s.append(p3)\n",
    "        errors.append(e)\n",
    "        itemized_errors.append(e_i)\n",
    "\n",
    "    print(\"\\n************Real************\")\n",
    "    print(f\"correlation mean :{np.mean(c1s)}, std: {np.std(c1s)}\")\n",
    "    print(f\"p-value mean :{np.mean(p1s)}, std: {np.std(p1s)}\")\n",
    "    print(\"\\n************Chatgpt************\")\n",
    "    print(f\"correlation mean :{np.mean(c2s)}, std: {np.std(c2s)}\")\n",
    "    print(f\"p-value mean :{np.mean(p2s)}, std: {np.std(p2s)}\")\n",
    "    print(\"\\n************Self************\")\n",
    "    print(f\"correlation mean :{np.mean(c3s)}, std: {np.std(c3s)}\")\n",
    "    print(f\"p-value mean :{np.mean(p3s)}, std: {np.std(p3s)}\")\n",
    "    print(\"\\n************Aggregated Error************\")\n",
    "    print(f\"mean :{np.mean(errors)}, std: {np.std(errors)}\")\n",
    "    print(\"\\n************Itemized Error************\")\n",
    "    print(f\"mean :{np.mean(itemized_errors)}, std: {np.std(itemized_errors)}\")\n"
   ]
  },
  {
   "cell_type": "code",
   "execution_count": 40,
   "id": "acc7997b-04a6-4d77-a810-21cce919a6ec",
   "metadata": {
    "executionInfo": {
     "elapsed": 2,
     "status": "ok",
     "timestamp": 1711318579886,
     "user": {
      "displayName": "Varun Mishra",
      "userId": "16035457180629638947"
     },
     "user_tz": 240
    },
    "id": "acc7997b-04a6-4d77-a810-21cce919a6ec",
    "tags": []
   },
   "outputs": [],
   "source": [
    "def get_scores(responses_dict, chat_gpt_scores_dict):\n",
    "    scale_given_scores = []\n",
    "    scale_generated_scores = []\n",
    "    chatgpt_scores = []\n",
    "    for key in responses_dict:\n",
    "        scale_given_responses = responses_dict[key][scale_given]\n",
    "        scale_generated_responses = responses_dict[key][scale_generated]\n",
    "        chatgpt_responses = chat_gpt_scores_dict[key]\n",
    "        assert(len(scale_generated_responses) == len(chatgpt_responses))\n",
    "        scale_given_score = get_scores_responses(scale_given_responses, scale_given)\n",
    "        scale_generated_score = get_scores_responses(scale_generated_responses, scale_generated)\n",
    "        chatgpt_score = get_scores_responses(chatgpt_responses, scale_generated)\n",
    "        scale_given_scores.append(scale_given_score)\n",
    "        scale_generated_scores.append(scale_generated_score)\n",
    "        chatgpt_scores.append(chatgpt_score)\n",
    "    return scale_given_scores, scale_generated_scores, chatgpt_scores"
   ]
  },
  {
   "cell_type": "code",
   "execution_count": 41,
   "id": "VMI__RZTxyaV",
   "metadata": {
    "colab": {
     "base_uri": "https://localhost:8080/"
    },
    "executionInfo": {
     "elapsed": 2,
     "status": "ok",
     "timestamp": 1711318580370,
     "user": {
      "displayName": "Varun Mishra",
      "userId": "16035457180629638947"
     },
     "user_tz": 240
    },
    "id": "VMI__RZTxyaV",
    "outputId": "5580a20e-ec3c-46bf-c6d1-0567189f0db6",
    "tags": []
   },
   "outputs": [
    {
     "name": "stdout",
     "output_type": "stream",
     "text": [
      "running for iteration 0\n",
      "spearman correlation coefficient phq and pss (real): 0.5299244775723991\n",
      "p-value: 4.305239570624242e-07\n",
      "spearman correlation coefficient pss (real) and phq(chat-gpt) 0.8676956289365014\n",
      "p-value: 2.1712039018409736e-25\n",
      "spearman correlation coefficient phq and phq(chatgpt) 0.5469885649066877\n",
      "p-value: 1.5235642540684117e-07\n",
      "aggregated error is 0.2138888888888889\n",
      "itemized error is 0.25462962962962965\n",
      "\n",
      "\n",
      "\n",
      "running for iteration 1\n",
      "spearman correlation coefficient phq and pss (real): 0.5299244775723991\n",
      "p-value: 4.305239570624242e-07\n",
      "spearman correlation coefficient pss (real) and phq(chat-gpt) 0.7619440250146163\n",
      "p-value: 2.2537966927362017e-16\n",
      "spearman correlation coefficient phq and phq(chatgpt) 0.5304050742202071\n",
      "p-value: 4.184354712080562e-07\n",
      "aggregated error is 0.2162037037037037\n",
      "itemized error is 0.26157407407407407\n",
      "\n",
      "\n",
      "\n",
      "running for iteration 2\n",
      "spearman correlation coefficient phq and pss (real): 0.5299244775723991\n",
      "p-value: 4.305239570624242e-07\n",
      "spearman correlation coefficient pss (real) and phq(chat-gpt) 0.8194054414491555\n",
      "p-value: 1.538563954759044e-20\n",
      "spearman correlation coefficient phq and phq(chatgpt) 0.5054749295178227\n",
      "p-value: 1.7330035518963093e-06\n",
      "aggregated error is 0.20925925925925928\n",
      "itemized error is 0.2574074074074074\n",
      "\n",
      "\n",
      "\n",
      "running for iteration 1\n",
      "spearman correlation coefficient phq and pss (real): 0.5299244775723991\n",
      "p-value: 4.305239570624242e-07\n",
      "spearman correlation coefficient pss (real) and phq(chat-gpt) 0.7619440250146163\n",
      "p-value: 2.2537966927362017e-16\n",
      "spearman correlation coefficient phq and phq(chatgpt) 0.5304050742202071\n",
      "p-value: 4.184354712080562e-07\n",
      "aggregated error is 0.2162037037037037\n",
      "itemized error is 0.26157407407407407\n",
      "\n",
      "\n",
      "\n",
      "running for iteration 2\n",
      "spearman correlation coefficient phq and pss (real): 0.5299244775723991\n",
      "p-value: 4.305239570624242e-07\n",
      "spearman correlation coefficient pss (real) and phq(chat-gpt) 0.8194054414491555\n",
      "p-value: 1.538563954759044e-20\n",
      "spearman correlation coefficient phq and phq(chatgpt) 0.5054749295178227\n",
      "p-value: 1.7330035518963093e-06\n",
      "aggregated error is 0.20925925925925928\n",
      "itemized error is 0.2574074074074074\n",
      "\n",
      "\n",
      "\n",
      "\n",
      "************Real************\n",
      "correlation mean :0.5299244775723991, std: 0.0\n",
      "p-value mean :4.305239570624242e-07, std: 0.0\n",
      "\n",
      "************Chatgpt************\n",
      "correlation mean :0.790674733231886, std: 0.028730708217269585\n",
      "p-value mean :1.1269752745658387e-16, std: 1.126821418170363e-16\n",
      "\n",
      "************Self************\n",
      "correlation mean :0.5179400018690149, std: 0.012465072351192208\n",
      "p-value mean :1.0757195115521828e-06, std: 6.572840403441266e-07\n",
      "\n",
      "************Aggregated Error************\n",
      "mean :0.2127314814814815, std: 0.00347222222222221\n",
      "\n",
      "************Itemized Error************\n",
      "mean :0.25949074074074074, std: 0.002083333333333326\n"
     ]
    }
   ],
   "source": [
    "run_iterations(3)\n",
    "get_metrics_after_run(3)\n",
    "scale_given_scores, scale_generated_scores, chatgpt_scores = get_scores(responses_dict, chat_gpt_scores_dict)"
   ]
  },
  {
   "cell_type": "code",
   "execution_count": 43,
   "id": "454a863d-4d6f-4957-98fe-09a082d98cc1",
   "metadata": {
    "colab": {
     "base_uri": "https://localhost:8080/",
     "height": 472
    },
    "executionInfo": {
     "elapsed": 762,
     "status": "ok",
     "timestamp": 1711318595972,
     "user": {
      "displayName": "Varun Mishra",
      "userId": "16035457180629638947"
     },
     "user_tz": 240
    },
    "id": "454a863d-4d6f-4957-98fe-09a082d98cc1",
    "outputId": "90194461-22b3-4668-ceb9-45c8b928da38",
    "tags": []
   },
   "outputs": [
    {
     "data": {
      "image/png": "[encoded data removed]",
      "text/plain": [
       "<Figure size 432x288 with 1 Axes>"
      ]
     },
     "metadata": {
      "needs_background": "light"
     },
     "output_type": "display_data"
    }
   ],
   "source": [
    "# Scatter Plot for real and GPT generated scores\n",
    "import numpy as np\n",
    "import matplotlib.pyplot as plt\n",
    "\n",
    "x_data = np.array([point for point in scale_given_scores])\n",
    "y_data = np.array([point for point in scale_generated_scores])\n",
    "chat_gpt = np.array([point for point in chatgpt_scores])\n",
    "\n",
    "plt.scatter(x_data, y_data, label='Original Data')\n",
    "plt.scatter(x_data, chat_gpt, label='GPT generated Data')\n",
    "plt.xlabel(scale_given + ' scores')\n",
    "plt.ylabel(scale_generated + 'scores')\n",
    "plt.title('Scatter Plot')\n",
    "plt.legend()\n",
    "plt.grid(True)\n",
    "plt.show()"
   ]
  },
  {
   "cell_type": "code",
   "execution_count": null,
   "id": "rOKTWjMigxlf",
   "metadata": {
    "id": "rOKTWjMigxlf"
   },
   "outputs": [],
   "source": []
  }
 ],
 "metadata": {
  "colab": {
   "provenance": [
    {
     "file_id": "1xzr2KzbDndMsMJ8AzJguInKlPEvd6eVR",
     "timestamp": 1711315660903
    },
    {
     "file_id": "1g83tYe7pdFn9uqZC6haZ5gcxoKEk1bKb",
     "timestamp": 1709752092658
    }
   ]
  },
  "kernelspec": {
   "display_name": "basicpy",
   "language": "python",
   "name": "basicpy"
  },
  "language_info": {
   "codemirror_mode": {
    "name": "ipython",
    "version": 3
   },
   "file_extension": ".py",
   "mimetype": "text/x-python",
   "name": "python",
   "nbconvert_exporter": "python",
   "pygments_lexer": "ipython3",
   "version": "3.9.12"
  }
 },
 "nbformat": 4,
 "nbformat_minor": 5
}
